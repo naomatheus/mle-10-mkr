{
 "cells": [
  {
   "cell_type": "markdown",
   "id": "971748d6",
   "metadata": {},
   "source": [
    "<p align = \"center\" draggable=”false” ><img src=\"https://user-images.githubusercontent.com/37101144/161836199-fdb0219d-0361-4988-bf26-48b0fad160a3.png\" \n",
    "     width=\"200px\"\n",
    "     height=\"auto\"/>\n",
    "</p>"
   ]
  },
  {
   "cell_type": "markdown",
   "id": "82694370",
   "metadata": {},
   "source": [
    "# 🛍️ Launch New Products"
   ]
  },
  {
   "cell_type": "markdown",
   "id": "e9dde4c6",
   "metadata": {},
   "source": [
    "Today you are a machine learning engineer at the Department of New Products at Target Cosmetics! \n",
    "\n",
    "We will start with a small dataset on interactions between users and current products from the past and try to discover substructure, if there's any, by applying some **unsupervised learning** methods. \n",
    "\n",
    "Then we will leverage the small amount of labeled data (current products) in combination with a larger amount of unlabeled data (new products to launch) to make estimations as to which products will sell more. "
   ]
  },
  {
   "cell_type": "markdown",
   "id": "653e62c8",
   "metadata": {},
   "source": [
    "## 📚 Learning Objectives"
   ]
  },
  {
   "cell_type": "markdown",
   "id": "10907851",
   "metadata": {},
   "source": [
    "By the end of this session, you will be able to:\n",
    "\n",
    "- apply dimensionality reduction techniques to reduce features to a lower dimensional space\n",
    "- perform customer segmentation, determine optional number of clusters, and understand assumptions for used algorithm\n",
    "- understand what semi-supervised learning is and leverage it to improve performance of supervised learning"
   ]
  },
  {
   "cell_type": "markdown",
   "id": "2869071e",
   "metadata": {},
   "source": [
    "## Task 1. Dimensionality Reduction"
   ]
  },
  {
   "cell_type": "markdown",
   "id": "dec7505e",
   "metadata": {},
   "source": [
    "1. Load in the data. \n",
    "    \n",
    "    Import `pandas` as `pd` and use `pd.read_csv()` to read in `past.csv.gz` in the `dat` folder, saving it as `past`. \n",
    "    \n",
    "    Data in `past.csv.gz` was propcessed; e.g., features indicating time of day, day of week, month, and year of the purchase have been converted to one-hot representations of these categories. "
   ]
  },
  {
   "cell_type": "code",
   "execution_count": 154,
   "id": "f9874722",
   "metadata": {},
   "outputs": [
    {
     "name": "stdout",
     "output_type": "stream",
     "text": [
      "new.csv.gz  past.csv.gz\r\n"
     ]
    }
   ],
   "source": [
    "! ls ../dat"
   ]
  },
  {
   "cell_type": "code",
   "execution_count": 155,
   "id": "d63ee4f8",
   "metadata": {},
   "outputs": [
    {
     "data": {
      "text/plain": [
       "Index(['product_id', 'user_id', 'NumOfEventsInJourney', 'NumSessions',\n",
       "       'interactionTime', 'maxPrice', 'minPrice', 'NumCart', 'NumView',\n",
       "       'NumRemove', 'InsessionCart', 'InsessionView', 'InsessionRemove',\n",
       "       'Weekend', 'Fr', 'Mon', 'Sat', 'Sun', 'Thu', 'Tue', 'Wed', '2019',\n",
       "       '2020', 'Jan', 'Feb', 'Oct', 'Nov', 'Dec', 'Afternoon', 'Dawn',\n",
       "       'EarlyMorning', 'Evening', 'Morning', 'Night', 'Purchased?', 'Noon',\n",
       "       'Category'],\n",
       "      dtype='object')"
      ]
     },
     "execution_count": 155,
     "metadata": {},
     "output_type": "execute_result"
    }
   ],
   "source": [
    "# YOUR CODE HERE\n",
    "import pandas as pd\n",
    "# pd.set_option('display_max_columns',None)\n",
    "path = '../dat/past.csv.gz'\n",
    "df = pd.read_csv(path,delimiter=',')\n",
    "df.columns"
   ]
  },
  {
   "cell_type": "markdown",
   "id": "2c21ec92",
   "metadata": {},
   "source": [
    "<details>\n",
    "<summary> Expected output </summary>\n",
    "\n",
    "```\n",
    "Index(['product_id', 'user_id', 'NumOfEventsInJourney', 'NumSessions',\n",
    "       'interactionTime', 'maxPrice', 'minPrice', 'NumCart', 'NumView',\n",
    "       'NumRemove', 'InsessionCart', 'InsessionView', 'InsessionRemove',\n",
    "       'Weekend', 'Fr', 'Mon', 'Sat', 'Sun', 'Thu', 'Tue', 'Wed', '2019',\n",
    "       '2020', 'Jan', 'Feb', 'Oct', 'Nov', 'Dec', 'Afternoon', 'Dawn',\n",
    "       'EarlyMorning', 'Evening', 'Morning', 'Night', 'Purchased?', 'Noon',\n",
    "       'Category'],\n",
    "      dtype='object')\n",
    "```\n",
    "</details>"
   ]
  },
  {
   "cell_type": "markdown",
   "id": "fec9671a",
   "metadata": {},
   "source": [
    "2. What percentage of the interactions (rows) resulted in a purchase?\n",
    "\n",
    "    Do people mostly buy what they look at or do they do a lot of \"window shopping\" (shopping around without buying)?\n",
    "    \n",
    "    From the perspective of classification, is the data balanced?"
   ]
  },
  {
   "cell_type": "markdown",
   "id": "3f84cc04",
   "metadata": {},
   "source": [
    "#### Amount that was purchased\n",
    "- From my perspective, the data is imbalanced toward situations where the purchase did not happen. However, I am not sure if that matters as much in this domain. I think it is common for there to be a lot of \"window shopping.\" Most people will not buy anything at that moment, but they will come back later possibly. "
   ]
  },
  {
   "cell_type": "code",
   "execution_count": 156,
   "id": "4acf13b8",
   "metadata": {},
   "outputs": [
    {
     "data": {
      "text/plain": [
       "0    65.62\n",
       "1    34.38\n",
       "Name: Purchased?, dtype: float64"
      ]
     },
     "execution_count": 156,
     "metadata": {},
     "output_type": "execute_result"
    }
   ],
   "source": [
    "# YOUR CODE HERE\n",
    "percent_purchase = df['Purchased?'].value_counts(normalize=True) * 100\n",
    "percent_purchase"
   ]
  },
  {
   "cell_type": "markdown",
   "id": "560d940e",
   "metadata": {},
   "source": [
    "3. Drop `product_id` and `user_id` and save the rest columns to a new `pd.DataFrame`:`X`; then pop the column `'Purchased?'` and save it to `y`."
   ]
  },
  {
   "cell_type": "code",
   "execution_count": 157,
   "id": "d72fed18",
   "metadata": {},
   "outputs": [
    {
     "data": {
      "text/html": [
       "<div>\n",
       "<style scoped>\n",
       "    .dataframe tbody tr th:only-of-type {\n",
       "        vertical-align: middle;\n",
       "    }\n",
       "\n",
       "    .dataframe tbody tr th {\n",
       "        vertical-align: top;\n",
       "    }\n",
       "\n",
       "    .dataframe thead th {\n",
       "        text-align: right;\n",
       "    }\n",
       "</style>\n",
       "<table border=\"1\" class=\"dataframe\">\n",
       "  <thead>\n",
       "    <tr style=\"text-align: right;\">\n",
       "      <th></th>\n",
       "      <th>NumOfEventsInJourney</th>\n",
       "      <th>NumSessions</th>\n",
       "      <th>interactionTime</th>\n",
       "      <th>maxPrice</th>\n",
       "      <th>minPrice</th>\n",
       "      <th>NumCart</th>\n",
       "      <th>NumView</th>\n",
       "      <th>NumRemove</th>\n",
       "      <th>InsessionCart</th>\n",
       "      <th>InsessionView</th>\n",
       "      <th>...</th>\n",
       "      <th>Dec</th>\n",
       "      <th>Afternoon</th>\n",
       "      <th>Dawn</th>\n",
       "      <th>EarlyMorning</th>\n",
       "      <th>Evening</th>\n",
       "      <th>Morning</th>\n",
       "      <th>Night</th>\n",
       "      <th>Purchased?</th>\n",
       "      <th>Noon</th>\n",
       "      <th>Category</th>\n",
       "    </tr>\n",
       "  </thead>\n",
       "  <tbody>\n",
       "    <tr>\n",
       "      <th>0</th>\n",
       "      <td>1.333333</td>\n",
       "      <td>1.333333</td>\n",
       "      <td>5550.000000</td>\n",
       "      <td>15.840000</td>\n",
       "      <td>15.840000</td>\n",
       "      <td>0.000000</td>\n",
       "      <td>1.333333</td>\n",
       "      <td>0.000000</td>\n",
       "      <td>0.000000</td>\n",
       "      <td>1.000000</td>\n",
       "      <td>...</td>\n",
       "      <td>0.000000</td>\n",
       "      <td>0.000000</td>\n",
       "      <td>0.000000</td>\n",
       "      <td>0.666667</td>\n",
       "      <td>0.333333</td>\n",
       "      <td>0.000000</td>\n",
       "      <td>0.000000</td>\n",
       "      <td>0</td>\n",
       "      <td>0.000000</td>\n",
       "      <td>1.000000</td>\n",
       "    </tr>\n",
       "    <tr>\n",
       "      <th>1</th>\n",
       "      <td>2.250000</td>\n",
       "      <td>1.500000</td>\n",
       "      <td>27556.500000</td>\n",
       "      <td>5.800000</td>\n",
       "      <td>5.565000</td>\n",
       "      <td>1.250000</td>\n",
       "      <td>0.250000</td>\n",
       "      <td>0.250000</td>\n",
       "      <td>3.750000</td>\n",
       "      <td>2.250000</td>\n",
       "      <td>...</td>\n",
       "      <td>0.250000</td>\n",
       "      <td>0.750000</td>\n",
       "      <td>0.000000</td>\n",
       "      <td>0.000000</td>\n",
       "      <td>0.250000</td>\n",
       "      <td>0.000000</td>\n",
       "      <td>0.000000</td>\n",
       "      <td>0</td>\n",
       "      <td>0.000000</td>\n",
       "      <td>1.000000</td>\n",
       "    </tr>\n",
       "    <tr>\n",
       "      <th>2</th>\n",
       "      <td>1.000000</td>\n",
       "      <td>1.000000</td>\n",
       "      <td>0.000000</td>\n",
       "      <td>6.272500</td>\n",
       "      <td>6.272500</td>\n",
       "      <td>0.250000</td>\n",
       "      <td>0.750000</td>\n",
       "      <td>0.000000</td>\n",
       "      <td>17.250000</td>\n",
       "      <td>30.000000</td>\n",
       "      <td>...</td>\n",
       "      <td>0.000000</td>\n",
       "      <td>0.000000</td>\n",
       "      <td>0.000000</td>\n",
       "      <td>0.000000</td>\n",
       "      <td>0.750000</td>\n",
       "      <td>0.250000</td>\n",
       "      <td>0.000000</td>\n",
       "      <td>0</td>\n",
       "      <td>0.000000</td>\n",
       "      <td>1.000000</td>\n",
       "    </tr>\n",
       "    <tr>\n",
       "      <th>3</th>\n",
       "      <td>1.500000</td>\n",
       "      <td>1.500000</td>\n",
       "      <td>131532.500000</td>\n",
       "      <td>5.560000</td>\n",
       "      <td>5.560000</td>\n",
       "      <td>0.250000</td>\n",
       "      <td>1.000000</td>\n",
       "      <td>0.250000</td>\n",
       "      <td>3.250000</td>\n",
       "      <td>10.500000</td>\n",
       "      <td>...</td>\n",
       "      <td>0.250000</td>\n",
       "      <td>0.000000</td>\n",
       "      <td>0.000000</td>\n",
       "      <td>0.000000</td>\n",
       "      <td>0.500000</td>\n",
       "      <td>0.000000</td>\n",
       "      <td>0.250000</td>\n",
       "      <td>0</td>\n",
       "      <td>0.250000</td>\n",
       "      <td>1.000000</td>\n",
       "    </tr>\n",
       "    <tr>\n",
       "      <th>4</th>\n",
       "      <td>1.875000</td>\n",
       "      <td>1.375000</td>\n",
       "      <td>11055.875000</td>\n",
       "      <td>4.086250</td>\n",
       "      <td>4.086250</td>\n",
       "      <td>0.500000</td>\n",
       "      <td>1.000000</td>\n",
       "      <td>0.250000</td>\n",
       "      <td>4.875000</td>\n",
       "      <td>3.375000</td>\n",
       "      <td>...</td>\n",
       "      <td>0.250000</td>\n",
       "      <td>0.375000</td>\n",
       "      <td>0.000000</td>\n",
       "      <td>0.125000</td>\n",
       "      <td>0.250000</td>\n",
       "      <td>0.250000</td>\n",
       "      <td>0.000000</td>\n",
       "      <td>1</td>\n",
       "      <td>0.000000</td>\n",
       "      <td>1.000000</td>\n",
       "    </tr>\n",
       "    <tr>\n",
       "      <th>...</th>\n",
       "      <td>...</td>\n",
       "      <td>...</td>\n",
       "      <td>...</td>\n",
       "      <td>...</td>\n",
       "      <td>...</td>\n",
       "      <td>...</td>\n",
       "      <td>...</td>\n",
       "      <td>...</td>\n",
       "      <td>...</td>\n",
       "      <td>...</td>\n",
       "      <td>...</td>\n",
       "      <td>...</td>\n",
       "      <td>...</td>\n",
       "      <td>...</td>\n",
       "      <td>...</td>\n",
       "      <td>...</td>\n",
       "      <td>...</td>\n",
       "      <td>...</td>\n",
       "      <td>...</td>\n",
       "      <td>...</td>\n",
       "      <td>...</td>\n",
       "    </tr>\n",
       "    <tr>\n",
       "      <th>4995</th>\n",
       "      <td>1.500000</td>\n",
       "      <td>1.000000</td>\n",
       "      <td>77.000000</td>\n",
       "      <td>0.790000</td>\n",
       "      <td>0.790000</td>\n",
       "      <td>0.500000</td>\n",
       "      <td>0.500000</td>\n",
       "      <td>0.000000</td>\n",
       "      <td>14.500000</td>\n",
       "      <td>3.000000</td>\n",
       "      <td>...</td>\n",
       "      <td>0.000000</td>\n",
       "      <td>0.500000</td>\n",
       "      <td>0.000000</td>\n",
       "      <td>0.500000</td>\n",
       "      <td>0.000000</td>\n",
       "      <td>0.000000</td>\n",
       "      <td>0.000000</td>\n",
       "      <td>0</td>\n",
       "      <td>0.000000</td>\n",
       "      <td>1.000000</td>\n",
       "    </tr>\n",
       "    <tr>\n",
       "      <th>4996</th>\n",
       "      <td>1.954545</td>\n",
       "      <td>1.363636</td>\n",
       "      <td>348649.090909</td>\n",
       "      <td>2.972727</td>\n",
       "      <td>2.972727</td>\n",
       "      <td>0.636364</td>\n",
       "      <td>0.681818</td>\n",
       "      <td>0.590909</td>\n",
       "      <td>23.590909</td>\n",
       "      <td>29.863636</td>\n",
       "      <td>...</td>\n",
       "      <td>0.272727</td>\n",
       "      <td>0.136364</td>\n",
       "      <td>0.045455</td>\n",
       "      <td>0.181818</td>\n",
       "      <td>0.409091</td>\n",
       "      <td>0.045455</td>\n",
       "      <td>0.090909</td>\n",
       "      <td>1</td>\n",
       "      <td>0.090909</td>\n",
       "      <td>1.045455</td>\n",
       "    </tr>\n",
       "    <tr>\n",
       "      <th>4997</th>\n",
       "      <td>1.000000</td>\n",
       "      <td>1.000000</td>\n",
       "      <td>0.000000</td>\n",
       "      <td>0.000000</td>\n",
       "      <td>0.000000</td>\n",
       "      <td>0.000000</td>\n",
       "      <td>1.000000</td>\n",
       "      <td>0.000000</td>\n",
       "      <td>0.000000</td>\n",
       "      <td>3.000000</td>\n",
       "      <td>...</td>\n",
       "      <td>0.000000</td>\n",
       "      <td>1.000000</td>\n",
       "      <td>0.000000</td>\n",
       "      <td>0.000000</td>\n",
       "      <td>0.000000</td>\n",
       "      <td>0.000000</td>\n",
       "      <td>0.000000</td>\n",
       "      <td>0</td>\n",
       "      <td>0.000000</td>\n",
       "      <td>1.000000</td>\n",
       "    </tr>\n",
       "    <tr>\n",
       "      <th>4998</th>\n",
       "      <td>2.000000</td>\n",
       "      <td>1.000000</td>\n",
       "      <td>766.000000</td>\n",
       "      <td>8.250000</td>\n",
       "      <td>8.250000</td>\n",
       "      <td>1.000000</td>\n",
       "      <td>0.000000</td>\n",
       "      <td>0.000000</td>\n",
       "      <td>22.000000</td>\n",
       "      <td>1.000000</td>\n",
       "      <td>...</td>\n",
       "      <td>0.000000</td>\n",
       "      <td>1.000000</td>\n",
       "      <td>0.000000</td>\n",
       "      <td>0.000000</td>\n",
       "      <td>0.000000</td>\n",
       "      <td>0.000000</td>\n",
       "      <td>0.000000</td>\n",
       "      <td>0</td>\n",
       "      <td>0.000000</td>\n",
       "      <td>1.000000</td>\n",
       "    </tr>\n",
       "    <tr>\n",
       "      <th>4999</th>\n",
       "      <td>1.333333</td>\n",
       "      <td>1.333333</td>\n",
       "      <td>23389.000000</td>\n",
       "      <td>5.426667</td>\n",
       "      <td>5.426667</td>\n",
       "      <td>0.333333</td>\n",
       "      <td>0.666667</td>\n",
       "      <td>0.333333</td>\n",
       "      <td>3.000000</td>\n",
       "      <td>15.333333</td>\n",
       "      <td>...</td>\n",
       "      <td>0.000000</td>\n",
       "      <td>0.000000</td>\n",
       "      <td>0.000000</td>\n",
       "      <td>0.333333</td>\n",
       "      <td>0.000000</td>\n",
       "      <td>0.333333</td>\n",
       "      <td>0.000000</td>\n",
       "      <td>0</td>\n",
       "      <td>0.333333</td>\n",
       "      <td>1.000000</td>\n",
       "    </tr>\n",
       "  </tbody>\n",
       "</table>\n",
       "<p>5000 rows × 35 columns</p>\n",
       "</div>"
      ],
      "text/plain": [
       "      NumOfEventsInJourney  NumSessions  interactionTime   maxPrice  \\\n",
       "0                 1.333333     1.333333      5550.000000  15.840000   \n",
       "1                 2.250000     1.500000     27556.500000   5.800000   \n",
       "2                 1.000000     1.000000         0.000000   6.272500   \n",
       "3                 1.500000     1.500000    131532.500000   5.560000   \n",
       "4                 1.875000     1.375000     11055.875000   4.086250   \n",
       "...                    ...          ...              ...        ...   \n",
       "4995              1.500000     1.000000        77.000000   0.790000   \n",
       "4996              1.954545     1.363636    348649.090909   2.972727   \n",
       "4997              1.000000     1.000000         0.000000   0.000000   \n",
       "4998              2.000000     1.000000       766.000000   8.250000   \n",
       "4999              1.333333     1.333333     23389.000000   5.426667   \n",
       "\n",
       "       minPrice   NumCart   NumView  NumRemove  InsessionCart  InsessionView  \\\n",
       "0     15.840000  0.000000  1.333333   0.000000       0.000000       1.000000   \n",
       "1      5.565000  1.250000  0.250000   0.250000       3.750000       2.250000   \n",
       "2      6.272500  0.250000  0.750000   0.000000      17.250000      30.000000   \n",
       "3      5.560000  0.250000  1.000000   0.250000       3.250000      10.500000   \n",
       "4      4.086250  0.500000  1.000000   0.250000       4.875000       3.375000   \n",
       "...         ...       ...       ...        ...            ...            ...   \n",
       "4995   0.790000  0.500000  0.500000   0.000000      14.500000       3.000000   \n",
       "4996   2.972727  0.636364  0.681818   0.590909      23.590909      29.863636   \n",
       "4997   0.000000  0.000000  1.000000   0.000000       0.000000       3.000000   \n",
       "4998   8.250000  1.000000  0.000000   0.000000      22.000000       1.000000   \n",
       "4999   5.426667  0.333333  0.666667   0.333333       3.000000      15.333333   \n",
       "\n",
       "      ...       Dec  Afternoon      Dawn  EarlyMorning   Evening   Morning  \\\n",
       "0     ...  0.000000   0.000000  0.000000      0.666667  0.333333  0.000000   \n",
       "1     ...  0.250000   0.750000  0.000000      0.000000  0.250000  0.000000   \n",
       "2     ...  0.000000   0.000000  0.000000      0.000000  0.750000  0.250000   \n",
       "3     ...  0.250000   0.000000  0.000000      0.000000  0.500000  0.000000   \n",
       "4     ...  0.250000   0.375000  0.000000      0.125000  0.250000  0.250000   \n",
       "...   ...       ...        ...       ...           ...       ...       ...   \n",
       "4995  ...  0.000000   0.500000  0.000000      0.500000  0.000000  0.000000   \n",
       "4996  ...  0.272727   0.136364  0.045455      0.181818  0.409091  0.045455   \n",
       "4997  ...  0.000000   1.000000  0.000000      0.000000  0.000000  0.000000   \n",
       "4998  ...  0.000000   1.000000  0.000000      0.000000  0.000000  0.000000   \n",
       "4999  ...  0.000000   0.000000  0.000000      0.333333  0.000000  0.333333   \n",
       "\n",
       "         Night  Purchased?      Noon  Category  \n",
       "0     0.000000           0  0.000000  1.000000  \n",
       "1     0.000000           0  0.000000  1.000000  \n",
       "2     0.000000           0  0.000000  1.000000  \n",
       "3     0.250000           0  0.250000  1.000000  \n",
       "4     0.000000           1  0.000000  1.000000  \n",
       "...        ...         ...       ...       ...  \n",
       "4995  0.000000           0  0.000000  1.000000  \n",
       "4996  0.090909           1  0.090909  1.045455  \n",
       "4997  0.000000           0  0.000000  1.000000  \n",
       "4998  0.000000           0  0.000000  1.000000  \n",
       "4999  0.000000           0  0.333333  1.000000  \n",
       "\n",
       "[5000 rows x 35 columns]"
      ]
     },
     "execution_count": 157,
     "metadata": {},
     "output_type": "execute_result"
    }
   ],
   "source": [
    "# YOUR CODE HERE\n",
    "df = df.drop(columns=['product_id','user_id'],axis=1)\n",
    "# YOUR CODE HERE\n",
    "y = df['Purchased?']\n",
    "df"
   ]
  },
  {
   "cell_type": "code",
   "execution_count": 158,
   "id": "7c2b48ba",
   "metadata": {},
   "outputs": [],
   "source": [
    "df = df.drop(columns=['Purchased?'],axis=1)\n",
    "assert df.shape == (5000, 34)\n",
    "# assert df.shape == (5000,)"
   ]
  },
  {
   "cell_type": "markdown",
   "id": "8d487454",
   "metadata": {},
   "source": [
    "4. Apply [PCA (check documentation if unfamiliar)](https://scikit-learn.org/stable/modules/generated/sklearn.decomposition.PCA.html) to reduce the number of features down to **5**, save it to a numpy array named `X_reduced`. \n",
    "\n",
    "    Do you need to preprocess the data before performing PCA? Quick review [here: Importance of feature scaling](https://scikit-learn.org/stable/auto_examples/preprocessing/plot_scaling_importance.html).\n",
    "    \n",
    "    If time permits, read [Does mean centering or feature scaling affect a Principal Component Analysis?](https://sebastianraschka.com/faq/docs/pca-scaling.html) or [discussion 1](https://stats.stackexchange.com/questions/53/pca-on-correlation-or-covariance)."
   ]
  },
  {
   "cell_type": "code",
   "execution_count": 159,
   "id": "26bf49d6",
   "metadata": {},
   "outputs": [],
   "source": [
    "# YOUR CODE HERE\n",
    "from sklearn.decomposition import PCA\n",
    "from sklearn.preprocessing import StandardScaler"
   ]
  },
  {
   "cell_type": "code",
   "execution_count": 160,
   "id": "2001238e",
   "metadata": {},
   "outputs": [],
   "source": [
    "scaler = StandardScaler()\n",
    "X_scaled = scaler.fit_transform(df)"
   ]
  },
  {
   "cell_type": "code",
   "execution_count": 161,
   "id": "f50320ba",
   "metadata": {},
   "outputs": [],
   "source": [
    "pca = PCA(n_components=5)\n",
    "\n",
    "X_reduced = pca.fit_transform(X_scaled)"
   ]
  },
  {
   "cell_type": "code",
   "execution_count": 162,
   "id": "f60ea4b8",
   "metadata": {},
   "outputs": [],
   "source": [
    "assert X_reduced.shape == (5000, 5)"
   ]
  },
  {
   "cell_type": "markdown",
   "id": "ec23808b",
   "metadata": {},
   "source": [
    "5. Print out the percentage of variance explained by each of the selected components."
   ]
  },
  {
   "cell_type": "code",
   "execution_count": 163,
   "id": "bd43be7c",
   "metadata": {},
   "outputs": [
    {
     "data": {
      "text/plain": [
       "array([3.39381198, 3.11770028, 2.14821527, 1.68278415, 1.39399955])"
      ]
     },
     "execution_count": 163,
     "metadata": {},
     "output_type": "execute_result"
    }
   ],
   "source": [
    "# YOUR CODE HERE\n",
    "pca.explained_variance_"
   ]
  },
  {
   "cell_type": "code",
   "execution_count": 164,
   "id": "278af3ef",
   "metadata": {},
   "outputs": [
    {
     "data": {
      "text/plain": [
       "0.35558072490595827"
      ]
     },
     "execution_count": 164,
     "metadata": {},
     "output_type": "execute_result"
    }
   ],
   "source": [
    "sum(pca.explained_variance_ratio_)"
   ]
  },
  {
   "cell_type": "markdown",
   "id": "bee7cf02",
   "metadata": {},
   "source": [
    "#### If we run PCA only 5 components, we do not capture much of the variance"
   ]
  },
  {
   "cell_type": "code",
   "execution_count": 165,
   "id": "17dc36c5",
   "metadata": {},
   "outputs": [],
   "source": [
    "pca_all = PCA(n_components=34)\n",
    "X_all = pca_all.fit_transform(df)"
   ]
  },
  {
   "cell_type": "code",
   "execution_count": 166,
   "id": "d4dfdf66",
   "metadata": {},
   "outputs": [
    {
     "data": {
      "text/plain": [
       "0.9999999999999997"
      ]
     },
     "execution_count": 166,
     "metadata": {},
     "output_type": "execute_result"
    }
   ],
   "source": [
    "sum(pca_all.explained_variance_ratio_)"
   ]
  },
  {
   "cell_type": "markdown",
   "id": "fe1c7c62",
   "metadata": {},
   "source": [
    "6. Review code in functions `visualize_2pcs` and `visualize_3pcs` below and visualize first few principal components in 2D and 3D plots, respectively:"
   ]
  },
  {
   "cell_type": "code",
   "execution_count": 167,
   "id": "900548a2",
   "metadata": {},
   "outputs": [],
   "source": [
    "import matplotlib.pyplot as plt\n",
    "\n",
    "def visualize_2pcs(pcs, y):\n",
    "    fig, ax = plt.subplots()\n",
    "    plot = plt.scatter(pcs[:,0], pcs[:,1], c=y) \n",
    "    ax.legend(\n",
    "        handles=plot.legend_elements()[0], \n",
    "        labels=['No', 'Yes'])"
   ]
  },
  {
   "cell_type": "code",
   "execution_count": 168,
   "id": "907db47f",
   "metadata": {},
   "outputs": [],
   "source": [
    "def visualize_3pcs(pcs, y):\n",
    "    fig, ax = plt.subplots()\n",
    "    ax = fig.add_subplot(projection='3d')\n",
    "    plot = ax.scatter(pcs[:,0], pcs[:,1], pcs[:,2], c=y)\n",
    "    ax.legend(\n",
    "        handles=plot.legend_elements()[0], \n",
    "        labels=['No', 'Yes'])"
   ]
  },
  {
   "cell_type": "code",
   "execution_count": 169,
   "id": "01abccc3",
   "metadata": {},
   "outputs": [
    {
     "data": {
      "image/png": "[encoded data removed]",
      "text/plain": [
       "<Figure size 432x288 with 1 Axes>"
      ]
     },
     "metadata": {
      "needs_background": "light"
     },
     "output_type": "display_data"
    },
    {
     "data": {
      "image/png": "[encoded data removed]",
      "text/plain": [
       "<Figure size 432x288 with 2 Axes>"
      ]
     },
     "metadata": {
      "needs_background": "light"
     },
     "output_type": "display_data"
    }
   ],
   "source": [
    "# YOUR CODE HERE\n",
    "visualize_2pcs(X_reduced,y)\n",
    "\n",
    "# YOUR CODE HERE\n",
    "visualize_3pcs(X_reduced,y)"
   ]
  },
  {
   "cell_type": "markdown",
   "id": "b9f1e012",
   "metadata": {},
   "source": [
    "7. One way to assess the quality of the dimensionality reduction, when the groundtruth is available of course, is comparing the prediction performance using given features vs reduced (engineered) features.\n",
    "\n",
    "    Complete the wrapper function below that \n",
    "\n",
    "    - takes features, target, and a boolean parameter indicating whether to include standardization in the pipeline or not\n",
    "    - split the data into train (80%) and test (20%) datasets, set the random state for spliting at 0\n",
    "    - build a pipeline that \n",
    "\n",
    "        1) preprocessing data using standardization if the `standardize` is `True`; otherwise skip this step  \n",
    "\n",
    "        2) apply logistic regression ( are the labels balanced? )\n",
    "        \n",
    "    - fit the pipeline using training data\n",
    "    - print the classification report (use `sklearn.metrics.classification_report`) on test data"
   ]
  },
  {
   "cell_type": "code",
   "execution_count": 170,
   "id": "5cb38e34",
   "metadata": {},
   "outputs": [],
   "source": [
    "# YOUR CODE HERE (imports!)\n",
    "from sklearn.metrics import classification_report \n",
    "from sklearn.model_selection import train_test_split\n",
    "from sklearn.pipeline import Pipeline\n",
    "from sklearn.linear_model import LogisticRegression"
   ]
  },
  {
   "cell_type": "code",
   "execution_count": 171,
   "id": "eec382d1",
   "metadata": {},
   "outputs": [
    {
     "name": "stdout",
     "output_type": "stream",
     "text": [
      "              precision    recall  f1-score   support\n",
      "\n",
      "           0       0.66      0.93      0.78       659\n",
      "           1       0.41      0.09      0.15       341\n",
      "\n",
      "    accuracy                           0.65      1000\n",
      "   macro avg       0.54      0.51      0.46      1000\n",
      "weighted avg       0.58      0.65      0.56      1000\n",
      "\n"
     ]
    }
   ],
   "source": [
    "\n",
    "\n",
    "def train(X, y, standardize = True) -> None:\n",
    "    # split\n",
    "    X_train,X_test,Y_train,Y_test = train_test_split(X,y,random_state=42,test_size=0.2)\n",
    "    \n",
    "    # pipeline\n",
    "    pipe = Pipeline([('scaler',StandardScaler()), ('model',LogisticRegression(random_state=0))])\n",
    "    \n",
    "    # fit pipeline\n",
    "    pipe.fit(X_train,Y_train)\n",
    "    \n",
    "    # score pipeline\n",
    "#     print(pipe.score(Y_train, Y_test))\n",
    "    \n",
    "    # predict\n",
    "    Y_pred = pipe.predict(X_test)\n",
    "    \n",
    "    print(classification_report(Y_test,Y_pred,labels=[0,1]))\n",
    "                                \n",
    "train(df,y,True)"
   ]
  },
  {
   "cell_type": "markdown",
   "id": "5b17ae17",
   "metadata": {},
   "source": [
    "<!-- Now apply the pipeline on the all the features `X` and review the performance -->"
   ]
  },
  {
   "cell_type": "code",
   "execution_count": 172,
   "id": "2dfc3392",
   "metadata": {},
   "outputs": [
    {
     "name": "stdout",
     "output_type": "stream",
     "text": [
      "              precision    recall  f1-score   support\n",
      "\n",
      "           0       0.78      0.90      0.83       659\n",
      "           1       0.72      0.50      0.59       341\n",
      "\n",
      "    accuracy                           0.76      1000\n",
      "   macro avg       0.75      0.70      0.71      1000\n",
      "weighted avg       0.76      0.76      0.75      1000\n",
      "\n"
     ]
    }
   ],
   "source": [
    "# YOUR CODE HERE\n",
    "# use synthetic features next\n",
    "train(X_all,y,True)"
   ]
  },
  {
   "cell_type": "markdown",
   "id": "b18c79f6",
   "metadata": {},
   "source": [
    "Similarly, apply the pipeline on the reduced / engineered features `X_reduced`. Should you include standardization in the pipeline?"
   ]
  },
  {
   "cell_type": "code",
   "execution_count": 173,
   "id": "7486aa3b",
   "metadata": {},
   "outputs": [],
   "source": [
    "## code above ^^"
   ]
  },
  {
   "cell_type": "markdown",
   "id": "b6cf1219",
   "metadata": {},
   "source": [
    "8. Are the results as expected? Discuss the pros and cons using reduced set of features in this application with your teammate. \n",
    "    *YOUR ANSWER HERE*"
   ]
  },
  {
   "cell_type": "markdown",
   "id": "21cc9707",
   "metadata": {},
   "source": [
    "## Task 2. Customer Segmentation"
   ]
  },
  {
   "cell_type": "markdown",
   "id": "80a1a95d",
   "metadata": {},
   "source": [
    "In this task, we apply k-means clustering on the reduced data, experimenting different vaules of `n_cluster`, summarize all this information in a single plot, the *Elbow* plot. In addition, leverage silhouette visualization to help decide the \"optimal\" number of clusters in our data and answer: \n",
    "\n",
    "1. Are there any patterns among customer purchasing behaviors?\n",
    "2. If so, what categories do they belong to? How do you characterize the clusters?\n",
    "3. If not, what followup steps and / or recommendations will you make as an MLE?"
   ]
  },
  {
   "cell_type": "markdown",
   "id": "1b6dc7fd",
   "metadata": {},
   "source": [
    "1. Look up the [documentation](https://scikit-learn.org/stable/modules/clustering.html) and import the model class for k-means from `sklearn.cluster`"
   ]
  },
  {
   "cell_type": "code",
   "execution_count": 174,
   "id": "bc3eee0e",
   "metadata": {},
   "outputs": [],
   "source": [
    "# YOUR CODE HERE\n",
    "from sklearn.cluster import KMeans"
   ]
  },
  {
   "cell_type": "code",
   "execution_count": 178,
   "id": "7fbbf216",
   "metadata": {},
   "outputs": [],
   "source": [
    "X = df\n",
    "\n",
    "k = 2"
   ]
  },
  {
   "cell_type": "markdown",
   "id": "9a4a915b",
   "metadata": {},
   "source": [
    "2. Complete `visualize_elbow`; inspect the code and complete\n",
    "\n",
    "    - fit k-means on the given data `X` and `k`, setting `random_state` to be 10 for reproducibility\n",
    "    - append the sum of squared distances of samples to their closest cluster center for each $k$ to list `inertias`"
   ]
  },
  {
   "cell_type": "code",
   "execution_count": 188,
   "id": "d2338ea5",
   "metadata": {},
   "outputs": [],
   "source": [
    "def visualize_elbow(X, ks):\n",
    "    fig, ax = plt.subplots()\n",
    "    inertias = []\n",
    "    for k in ks:\n",
    "        # YOUR CODE HERE\n",
    "        model = KMeans(k)\n",
    "        output = model.fit(X)\n",
    "        inertias.append(\n",
    "            output.inertia_ \n",
    "        )\n",
    "        # YOUR CODE HERE\n",
    "    plt.plot(ks, inertias)\n",
    "    plt.xticks(ks)\n",
    "    plt.xlabel('Number of clusters')\n",
    "    plt.ylabel('Inertia')\n",
    "    plt.title('Elbow plot')"
   ]
  },
  {
   "cell_type": "markdown",
   "id": "62bc7db3",
   "metadata": {},
   "source": [
    "3. Visualize the elbow plot for the number of clusters ranging between 2 and 9. Discuss with your teammate, what is the 'optimal' number of clusters?"
   ]
  },
  {
   "cell_type": "code",
   "execution_count": 199,
   "id": "9de40c6e",
   "metadata": {},
   "outputs": [
    {
     "data": {
      "image/png": "[encoded data removed]",
      "text/plain": [
       "<Figure size 432x288 with 1 Axes>"
      ]
     },
     "metadata": {
      "needs_background": "light"
     },
     "output_type": "display_data"
    }
   ],
   "source": [
    "# YOUR CODE HERE\n",
    "visualize_elbow(X_reduced,[1,2,3,4,5])"
   ]
  },
  {
   "cell_type": "markdown",
   "id": "50183626",
   "metadata": {},
   "source": [
    "4. What are the disadvantage to use the Elbow method? "
   ]
  },
  {
   "cell_type": "markdown",
   "id": "bd270b30",
   "metadata": {},
   "source": [
    "    *YOUR ANSWER HERE*\n",
    "    The disadvantage is that one has to use a form of gut or intuition to really determine what the correct number of clusters will be. We don't have necessarily an objective scoring metric to use, and we can only \"eyeball\" a graph and judge from our best interpretation what the most effective number of clusters should be."
   ]
  },
  {
   "cell_type": "markdown",
   "id": "df38e1e1",
   "metadata": {},
   "source": [
    "5. Let's try a different approach: [silhouette score](https://towardsdatascience.com/clustering-metrics-better-than-the-elbow-method-6926e1f723a6).\n",
    "\n",
    "    A helper function `visualize_silhouette` is provided for you (inspect the code in `utils.py`) and figure out how to use it to visualize k-means for k ranges from 2 to 8 on the reduced data. "
   ]
  },
  {
   "cell_type": "code",
   "execution_count": 192,
   "id": "35d5ac66",
   "metadata": {},
   "outputs": [],
   "source": [
    "from utils import visualize_silhouette"
   ]
  },
  {
   "cell_type": "code",
   "execution_count": 201,
   "id": "3047c431",
   "metadata": {
    "scrolled": false
   },
   "outputs": [
    {
     "name": "stdout",
     "output_type": "stream",
     "text": [
      "For n_clusters = 2 The average silhouette_score is : 0.2504044721170566\n",
      "For n_clusters = 3 The average silhouette_score is : 0.2585988946564579\n",
      "For n_clusters = 4 The average silhouette_score is : 0.27192307987509967\n",
      "For n_clusters = 5 The average silhouette_score is : 0.2772819123147587\n",
      "For n_clusters = 6 The average silhouette_score is : 0.24244505299882843\n"
     ]
    },
    {
     "data": {
      "image/png": "[encoded data removed]",
      "text/plain": [
       "<Figure size 1296x504 with 2 Axes>"
      ]
     },
     "metadata": {
      "needs_background": "light"
     },
     "output_type": "display_data"
    },
    {
     "data": {
      "image/png": "[encoded data removed]",
      "text/plain": [
       "<Figure size 1296x504 with 2 Axes>"
      ]
     },
     "metadata": {
      "needs_background": "light"
     },
     "output_type": "display_data"
    },
    {
     "data": {
      "image/png": "[encoded data removed]",
      "text/plain": [
       "<Figure size 1296x504 with 2 Axes>"
      ]
     },
     "metadata": {
      "needs_background": "light"
     },
     "output_type": "display_data"
    },
    {
     "data": {
      "image/png": "[encoded data removed]",
      "text/plain": [
       "<Figure size 1296x504 with 2 Axes>"
      ]
     },
     "metadata": {
      "needs_background": "light"
     },
     "output_type": "display_data"
    },
    {
     "data": {
      "image/png": "[encoded data removed]",
      "text/plain": [
       "<Figure size 1296x504 with 2 Axes>"
      ]
     },
     "metadata": {
      "needs_background": "light"
     },
     "output_type": "display_data"
    }
   ],
   "source": [
    "# YOUR CODE HERE\n",
    "visualize_silhouette(6,X_reduced)"
   ]
  },
  {
   "cell_type": "markdown",
   "id": "6adf9e73",
   "metadata": {},
   "source": [
    "6. Instantiate a k-means model using the number of cluster that you deem optimal, assign it to `km`, and fit on the reduced data. "
   ]
  },
  {
   "cell_type": "code",
   "execution_count": 207,
   "id": "b5692682",
   "metadata": {},
   "outputs": [],
   "source": [
    "# YOUR CODE HERE\n",
    "km = KMeans(n_clusters=5,random_state=10)\n",
    "\n",
    "km = km.fit(X_reduced)"
   ]
  },
  {
   "cell_type": "markdown",
   "id": "19b802fa",
   "metadata": {},
   "source": [
    "7. What is the size of each cluster? "
   ]
  },
  {
   "cell_type": "code",
   "execution_count": 208,
   "id": "d41df1da",
   "metadata": {},
   "outputs": [
    {
     "name": "stdout",
     "output_type": "stream",
     "text": [
      "Cluster 0\n",
      "Center: [-0.50159518 -2.50955367  4.93931555  3.17065075  0.04498499]\n",
      "Size: 135\n",
      "Cluster 1\n",
      "Center: [ 5.45387372  7.64616792  3.28961093 -0.66575127 -0.25713095]\n",
      "Size: 59\n",
      "Cluster 2\n",
      "Center: [-1.34628876  0.60590312 -0.08972729 -0.05155292 -0.02853588]\n",
      "Size: 2505\n",
      "Cluster 3\n",
      "Center: [ 3.51752239  2.87663846 -5.15430892  8.7964386  -2.53885251]\n",
      "Size: 36\n",
      "Cluster 4\n",
      "Center: [ 1.32086504 -0.76542183 -0.19892833 -0.25443279  0.07592884]\n",
      "Size: 2265\n"
     ]
    }
   ],
   "source": [
    "# YOUR CODE HERE\n",
    "# cluster centers can be used\n",
    "\n",
    "for i in range(len(km.cluster_centers_)):\n",
    "    print(\"Cluster\", i)\n",
    "    print(\"Center:\", km.cluster_centers_[i])\n",
    "    print(\"Size:\", sum(km.labels_ == i))"
   ]
  },
  {
   "cell_type": "markdown",
   "id": "cfaf3260",
   "metadata": {},
   "source": [
    "8. Create a new column called `cluster_pca` in `past`, with values as predicted cluster index predicted by `km`. "
   ]
  },
  {
   "cell_type": "code",
   "execution_count": 211,
   "id": "e55328f5",
   "metadata": {
    "scrolled": true
   },
   "outputs": [
    {
     "data": {
      "text/html": [
       "<div>\n",
       "<style scoped>\n",
       "    .dataframe tbody tr th:only-of-type {\n",
       "        vertical-align: middle;\n",
       "    }\n",
       "\n",
       "    .dataframe tbody tr th {\n",
       "        vertical-align: top;\n",
       "    }\n",
       "\n",
       "    .dataframe thead th {\n",
       "        text-align: right;\n",
       "    }\n",
       "</style>\n",
       "<table border=\"1\" class=\"dataframe\">\n",
       "  <thead>\n",
       "    <tr style=\"text-align: right;\">\n",
       "      <th></th>\n",
       "      <th>product_id</th>\n",
       "      <th>user_id</th>\n",
       "      <th>NumOfEventsInJourney</th>\n",
       "      <th>NumSessions</th>\n",
       "      <th>interactionTime</th>\n",
       "      <th>maxPrice</th>\n",
       "      <th>minPrice</th>\n",
       "      <th>NumCart</th>\n",
       "      <th>NumView</th>\n",
       "      <th>NumRemove</th>\n",
       "      <th>...</th>\n",
       "      <th>Afternoon</th>\n",
       "      <th>Dawn</th>\n",
       "      <th>EarlyMorning</th>\n",
       "      <th>Evening</th>\n",
       "      <th>Morning</th>\n",
       "      <th>Night</th>\n",
       "      <th>Purchased?</th>\n",
       "      <th>Noon</th>\n",
       "      <th>Category</th>\n",
       "      <th>cluster_pca</th>\n",
       "    </tr>\n",
       "  </thead>\n",
       "  <tbody>\n",
       "    <tr>\n",
       "      <th>0</th>\n",
       "      <td>5866936</td>\n",
       "      <td>5.618978e+08</td>\n",
       "      <td>1.333333</td>\n",
       "      <td>1.333333</td>\n",
       "      <td>5550.000000</td>\n",
       "      <td>15.840000</td>\n",
       "      <td>15.840000</td>\n",
       "      <td>0.000000</td>\n",
       "      <td>1.333333</td>\n",
       "      <td>0.000000</td>\n",
       "      <td>...</td>\n",
       "      <td>0.000000</td>\n",
       "      <td>0.000000</td>\n",
       "      <td>0.666667</td>\n",
       "      <td>0.333333</td>\n",
       "      <td>0.000000</td>\n",
       "      <td>0.000000</td>\n",
       "      <td>0</td>\n",
       "      <td>0.000000</td>\n",
       "      <td>1.000000</td>\n",
       "      <td>4</td>\n",
       "    </tr>\n",
       "    <tr>\n",
       "      <th>1</th>\n",
       "      <td>5647110</td>\n",
       "      <td>5.326529e+08</td>\n",
       "      <td>2.250000</td>\n",
       "      <td>1.500000</td>\n",
       "      <td>27556.500000</td>\n",
       "      <td>5.800000</td>\n",
       "      <td>5.565000</td>\n",
       "      <td>1.250000</td>\n",
       "      <td>0.250000</td>\n",
       "      <td>0.250000</td>\n",
       "      <td>...</td>\n",
       "      <td>0.750000</td>\n",
       "      <td>0.000000</td>\n",
       "      <td>0.000000</td>\n",
       "      <td>0.250000</td>\n",
       "      <td>0.000000</td>\n",
       "      <td>0.000000</td>\n",
       "      <td>0</td>\n",
       "      <td>0.000000</td>\n",
       "      <td>1.000000</td>\n",
       "      <td>4</td>\n",
       "    </tr>\n",
       "    <tr>\n",
       "      <th>2</th>\n",
       "      <td>5790472</td>\n",
       "      <td>4.578109e+08</td>\n",
       "      <td>1.000000</td>\n",
       "      <td>1.000000</td>\n",
       "      <td>0.000000</td>\n",
       "      <td>6.272500</td>\n",
       "      <td>6.272500</td>\n",
       "      <td>0.250000</td>\n",
       "      <td>0.750000</td>\n",
       "      <td>0.000000</td>\n",
       "      <td>...</td>\n",
       "      <td>0.000000</td>\n",
       "      <td>0.000000</td>\n",
       "      <td>0.000000</td>\n",
       "      <td>0.750000</td>\n",
       "      <td>0.250000</td>\n",
       "      <td>0.000000</td>\n",
       "      <td>0</td>\n",
       "      <td>0.000000</td>\n",
       "      <td>1.000000</td>\n",
       "      <td>4</td>\n",
       "    </tr>\n",
       "    <tr>\n",
       "      <th>3</th>\n",
       "      <td>5811598</td>\n",
       "      <td>4.612641e+08</td>\n",
       "      <td>1.500000</td>\n",
       "      <td>1.500000</td>\n",
       "      <td>131532.500000</td>\n",
       "      <td>5.560000</td>\n",
       "      <td>5.560000</td>\n",
       "      <td>0.250000</td>\n",
       "      <td>1.000000</td>\n",
       "      <td>0.250000</td>\n",
       "      <td>...</td>\n",
       "      <td>0.000000</td>\n",
       "      <td>0.000000</td>\n",
       "      <td>0.000000</td>\n",
       "      <td>0.500000</td>\n",
       "      <td>0.000000</td>\n",
       "      <td>0.250000</td>\n",
       "      <td>0</td>\n",
       "      <td>0.250000</td>\n",
       "      <td>1.000000</td>\n",
       "      <td>4</td>\n",
       "    </tr>\n",
       "    <tr>\n",
       "      <th>4</th>\n",
       "      <td>5846363</td>\n",
       "      <td>5.157993e+08</td>\n",
       "      <td>1.875000</td>\n",
       "      <td>1.375000</td>\n",
       "      <td>11055.875000</td>\n",
       "      <td>4.086250</td>\n",
       "      <td>4.086250</td>\n",
       "      <td>0.500000</td>\n",
       "      <td>1.000000</td>\n",
       "      <td>0.250000</td>\n",
       "      <td>...</td>\n",
       "      <td>0.375000</td>\n",
       "      <td>0.000000</td>\n",
       "      <td>0.125000</td>\n",
       "      <td>0.250000</td>\n",
       "      <td>0.250000</td>\n",
       "      <td>0.000000</td>\n",
       "      <td>1</td>\n",
       "      <td>0.000000</td>\n",
       "      <td>1.000000</td>\n",
       "      <td>2</td>\n",
       "    </tr>\n",
       "    <tr>\n",
       "      <th>...</th>\n",
       "      <td>...</td>\n",
       "      <td>...</td>\n",
       "      <td>...</td>\n",
       "      <td>...</td>\n",
       "      <td>...</td>\n",
       "      <td>...</td>\n",
       "      <td>...</td>\n",
       "      <td>...</td>\n",
       "      <td>...</td>\n",
       "      <td>...</td>\n",
       "      <td>...</td>\n",
       "      <td>...</td>\n",
       "      <td>...</td>\n",
       "      <td>...</td>\n",
       "      <td>...</td>\n",
       "      <td>...</td>\n",
       "      <td>...</td>\n",
       "      <td>...</td>\n",
       "      <td>...</td>\n",
       "      <td>...</td>\n",
       "      <td>...</td>\n",
       "    </tr>\n",
       "    <tr>\n",
       "      <th>4995</th>\n",
       "      <td>5610082</td>\n",
       "      <td>5.853313e+08</td>\n",
       "      <td>1.500000</td>\n",
       "      <td>1.000000</td>\n",
       "      <td>77.000000</td>\n",
       "      <td>0.790000</td>\n",
       "      <td>0.790000</td>\n",
       "      <td>0.500000</td>\n",
       "      <td>0.500000</td>\n",
       "      <td>0.000000</td>\n",
       "      <td>...</td>\n",
       "      <td>0.500000</td>\n",
       "      <td>0.000000</td>\n",
       "      <td>0.500000</td>\n",
       "      <td>0.000000</td>\n",
       "      <td>0.000000</td>\n",
       "      <td>0.000000</td>\n",
       "      <td>0</td>\n",
       "      <td>0.000000</td>\n",
       "      <td>1.000000</td>\n",
       "      <td>4</td>\n",
       "    </tr>\n",
       "    <tr>\n",
       "      <th>4996</th>\n",
       "      <td>5770265</td>\n",
       "      <td>5.124349e+08</td>\n",
       "      <td>1.954545</td>\n",
       "      <td>1.363636</td>\n",
       "      <td>348649.090909</td>\n",
       "      <td>2.972727</td>\n",
       "      <td>2.972727</td>\n",
       "      <td>0.636364</td>\n",
       "      <td>0.681818</td>\n",
       "      <td>0.590909</td>\n",
       "      <td>...</td>\n",
       "      <td>0.136364</td>\n",
       "      <td>0.045455</td>\n",
       "      <td>0.181818</td>\n",
       "      <td>0.409091</td>\n",
       "      <td>0.045455</td>\n",
       "      <td>0.090909</td>\n",
       "      <td>1</td>\n",
       "      <td>0.090909</td>\n",
       "      <td>1.045455</td>\n",
       "      <td>2</td>\n",
       "    </tr>\n",
       "    <tr>\n",
       "      <th>4997</th>\n",
       "      <td>5923106</td>\n",
       "      <td>4.427739e+08</td>\n",
       "      <td>1.000000</td>\n",
       "      <td>1.000000</td>\n",
       "      <td>0.000000</td>\n",
       "      <td>0.000000</td>\n",
       "      <td>0.000000</td>\n",
       "      <td>0.000000</td>\n",
       "      <td>1.000000</td>\n",
       "      <td>0.000000</td>\n",
       "      <td>...</td>\n",
       "      <td>1.000000</td>\n",
       "      <td>0.000000</td>\n",
       "      <td>0.000000</td>\n",
       "      <td>0.000000</td>\n",
       "      <td>0.000000</td>\n",
       "      <td>0.000000</td>\n",
       "      <td>0</td>\n",
       "      <td>0.000000</td>\n",
       "      <td>1.000000</td>\n",
       "      <td>4</td>\n",
       "    </tr>\n",
       "    <tr>\n",
       "      <th>4998</th>\n",
       "      <td>5889691</td>\n",
       "      <td>6.104029e+08</td>\n",
       "      <td>2.000000</td>\n",
       "      <td>1.000000</td>\n",
       "      <td>766.000000</td>\n",
       "      <td>8.250000</td>\n",
       "      <td>8.250000</td>\n",
       "      <td>1.000000</td>\n",
       "      <td>0.000000</td>\n",
       "      <td>0.000000</td>\n",
       "      <td>...</td>\n",
       "      <td>1.000000</td>\n",
       "      <td>0.000000</td>\n",
       "      <td>0.000000</td>\n",
       "      <td>0.000000</td>\n",
       "      <td>0.000000</td>\n",
       "      <td>0.000000</td>\n",
       "      <td>0</td>\n",
       "      <td>0.000000</td>\n",
       "      <td>1.000000</td>\n",
       "      <td>4</td>\n",
       "    </tr>\n",
       "    <tr>\n",
       "      <th>4999</th>\n",
       "      <td>5853603</td>\n",
       "      <td>4.144132e+08</td>\n",
       "      <td>1.333333</td>\n",
       "      <td>1.333333</td>\n",
       "      <td>23389.000000</td>\n",
       "      <td>5.426667</td>\n",
       "      <td>5.426667</td>\n",
       "      <td>0.333333</td>\n",
       "      <td>0.666667</td>\n",
       "      <td>0.333333</td>\n",
       "      <td>...</td>\n",
       "      <td>0.000000</td>\n",
       "      <td>0.000000</td>\n",
       "      <td>0.333333</td>\n",
       "      <td>0.000000</td>\n",
       "      <td>0.333333</td>\n",
       "      <td>0.000000</td>\n",
       "      <td>0</td>\n",
       "      <td>0.333333</td>\n",
       "      <td>1.000000</td>\n",
       "      <td>2</td>\n",
       "    </tr>\n",
       "  </tbody>\n",
       "</table>\n",
       "<p>5000 rows × 38 columns</p>\n",
       "</div>"
      ],
      "text/plain": [
       "      product_id       user_id  NumOfEventsInJourney  NumSessions  \\\n",
       "0        5866936  5.618978e+08              1.333333     1.333333   \n",
       "1        5647110  5.326529e+08              2.250000     1.500000   \n",
       "2        5790472  4.578109e+08              1.000000     1.000000   \n",
       "3        5811598  4.612641e+08              1.500000     1.500000   \n",
       "4        5846363  5.157993e+08              1.875000     1.375000   \n",
       "...          ...           ...                   ...          ...   \n",
       "4995     5610082  5.853313e+08              1.500000     1.000000   \n",
       "4996     5770265  5.124349e+08              1.954545     1.363636   \n",
       "4997     5923106  4.427739e+08              1.000000     1.000000   \n",
       "4998     5889691  6.104029e+08              2.000000     1.000000   \n",
       "4999     5853603  4.144132e+08              1.333333     1.333333   \n",
       "\n",
       "      interactionTime   maxPrice   minPrice   NumCart   NumView  NumRemove  \\\n",
       "0         5550.000000  15.840000  15.840000  0.000000  1.333333   0.000000   \n",
       "1        27556.500000   5.800000   5.565000  1.250000  0.250000   0.250000   \n",
       "2            0.000000   6.272500   6.272500  0.250000  0.750000   0.000000   \n",
       "3       131532.500000   5.560000   5.560000  0.250000  1.000000   0.250000   \n",
       "4        11055.875000   4.086250   4.086250  0.500000  1.000000   0.250000   \n",
       "...               ...        ...        ...       ...       ...        ...   \n",
       "4995        77.000000   0.790000   0.790000  0.500000  0.500000   0.000000   \n",
       "4996    348649.090909   2.972727   2.972727  0.636364  0.681818   0.590909   \n",
       "4997         0.000000   0.000000   0.000000  0.000000  1.000000   0.000000   \n",
       "4998       766.000000   8.250000   8.250000  1.000000  0.000000   0.000000   \n",
       "4999     23389.000000   5.426667   5.426667  0.333333  0.666667   0.333333   \n",
       "\n",
       "      ...  Afternoon      Dawn  EarlyMorning   Evening   Morning     Night  \\\n",
       "0     ...   0.000000  0.000000      0.666667  0.333333  0.000000  0.000000   \n",
       "1     ...   0.750000  0.000000      0.000000  0.250000  0.000000  0.000000   \n",
       "2     ...   0.000000  0.000000      0.000000  0.750000  0.250000  0.000000   \n",
       "3     ...   0.000000  0.000000      0.000000  0.500000  0.000000  0.250000   \n",
       "4     ...   0.375000  0.000000      0.125000  0.250000  0.250000  0.000000   \n",
       "...   ...        ...       ...           ...       ...       ...       ...   \n",
       "4995  ...   0.500000  0.000000      0.500000  0.000000  0.000000  0.000000   \n",
       "4996  ...   0.136364  0.045455      0.181818  0.409091  0.045455  0.090909   \n",
       "4997  ...   1.000000  0.000000      0.000000  0.000000  0.000000  0.000000   \n",
       "4998  ...   1.000000  0.000000      0.000000  0.000000  0.000000  0.000000   \n",
       "4999  ...   0.000000  0.000000      0.333333  0.000000  0.333333  0.000000   \n",
       "\n",
       "      Purchased?      Noon  Category  cluster_pca  \n",
       "0              0  0.000000  1.000000            4  \n",
       "1              0  0.000000  1.000000            4  \n",
       "2              0  0.000000  1.000000            4  \n",
       "3              0  0.250000  1.000000            4  \n",
       "4              1  0.000000  1.000000            2  \n",
       "...          ...       ...       ...          ...  \n",
       "4995           0  0.000000  1.000000            4  \n",
       "4996           1  0.090909  1.045455            2  \n",
       "4997           0  0.000000  1.000000            4  \n",
       "4998           0  0.000000  1.000000            4  \n",
       "4999           0  0.333333  1.000000            2  \n",
       "\n",
       "[5000 rows x 38 columns]"
      ]
     },
     "execution_count": 211,
     "metadata": {},
     "output_type": "execute_result"
    }
   ],
   "source": [
    "# YOUR CODE HERE\n",
    "path = '../dat/past.csv.gz'\n",
    "past = pd.read_csv(path,delimiter=',')\n",
    "\n",
    "km_predict = km.predict(X_reduced)\n",
    "\n",
    "past['cluster_pca'] = km_predict\n",
    "\n",
    "past"
   ]
  },
  {
   "cell_type": "markdown",
   "id": "62ea839f",
   "metadata": {},
   "source": [
    "9. Open ended: manipulate `past` and see if you can characterize each cluster (e.g., calculate statistics of / visualize features for each cluster), how will you intepret the results? \n",
    "\n",
    "    **Note**. This is probably the most important part as far as the business stakeholders are concerned: \"*What can I do with your results?*\" The math, modeling part is relatively easy, compared to actionable recommendations you make for business. Thus, before jumping on a different algorithm for the given task, do you best to 1) understand the data in depth 2) keep buisiness use cases in mind throughout all steps. "
   ]
  },
  {
   "cell_type": "markdown",
   "id": "05941c7f",
   "metadata": {},
   "source": [
    "    *YOUR ANSWER HERE*\n",
    "    I can take steps to make this information actionable at this point for the business stakeholder. \n",
    "    By determining and visualizing which cluster the items will belong to I can create a visualization of the whether the item was purchased or not. Then we can make a determination of which items should be marked down based on the cluster that the item appears in.\n",
    "    \n",
    "    - Let's look at Sales (i.e. successful Purchases) by Cluster"
   ]
  },
  {
   "cell_type": "code",
   "execution_count": 226,
   "id": "1e6bf905",
   "metadata": {},
   "outputs": [
    {
     "data": {
      "text/html": [
       "<div>\n",
       "<style scoped>\n",
       "    .dataframe tbody tr th:only-of-type {\n",
       "        vertical-align: middle;\n",
       "    }\n",
       "\n",
       "    .dataframe tbody tr th {\n",
       "        vertical-align: top;\n",
       "    }\n",
       "\n",
       "    .dataframe thead th {\n",
       "        text-align: right;\n",
       "    }\n",
       "</style>\n",
       "<table border=\"1\" class=\"dataframe\">\n",
       "  <thead>\n",
       "    <tr style=\"text-align: right;\">\n",
       "      <th></th>\n",
       "      <th>product_id</th>\n",
       "      <th>user_id</th>\n",
       "      <th>NumOfEventsInJourney</th>\n",
       "      <th>NumSessions</th>\n",
       "      <th>interactionTime</th>\n",
       "      <th>maxPrice</th>\n",
       "      <th>minPrice</th>\n",
       "      <th>NumCart</th>\n",
       "      <th>NumView</th>\n",
       "      <th>NumRemove</th>\n",
       "      <th>...</th>\n",
       "      <th>Dec</th>\n",
       "      <th>Afternoon</th>\n",
       "      <th>Dawn</th>\n",
       "      <th>EarlyMorning</th>\n",
       "      <th>Evening</th>\n",
       "      <th>Morning</th>\n",
       "      <th>Night</th>\n",
       "      <th>Purchased?</th>\n",
       "      <th>Noon</th>\n",
       "      <th>Category</th>\n",
       "    </tr>\n",
       "    <tr>\n",
       "      <th>cluster_pca</th>\n",
       "      <th></th>\n",
       "      <th></th>\n",
       "      <th></th>\n",
       "      <th></th>\n",
       "      <th></th>\n",
       "      <th></th>\n",
       "      <th></th>\n",
       "      <th></th>\n",
       "      <th></th>\n",
       "      <th></th>\n",
       "      <th></th>\n",
       "      <th></th>\n",
       "      <th></th>\n",
       "      <th></th>\n",
       "      <th></th>\n",
       "      <th></th>\n",
       "      <th></th>\n",
       "      <th></th>\n",
       "      <th></th>\n",
       "      <th></th>\n",
       "      <th></th>\n",
       "    </tr>\n",
       "  </thead>\n",
       "  <tbody>\n",
       "    <tr>\n",
       "      <th>0</th>\n",
       "      <td>736144090</td>\n",
       "      <td>7.227742e+10</td>\n",
       "      <td>194.783750</td>\n",
       "      <td>158.675098</td>\n",
       "      <td>1.363027e+07</td>\n",
       "      <td>8265.973334</td>\n",
       "      <td>8258.990803</td>\n",
       "      <td>16.208033</td>\n",
       "      <td>164.774091</td>\n",
       "      <td>9.125688</td>\n",
       "      <td>...</td>\n",
       "      <td>22.028645</td>\n",
       "      <td>30.322385</td>\n",
       "      <td>7.693517</td>\n",
       "      <td>25.423089</td>\n",
       "      <td>26.484665</td>\n",
       "      <td>24.067059</td>\n",
       "      <td>9.057392</td>\n",
       "      <td>56</td>\n",
       "      <td>11.951893</td>\n",
       "      <td>142.245487</td>\n",
       "    </tr>\n",
       "    <tr>\n",
       "      <th>1</th>\n",
       "      <td>338274977</td>\n",
       "      <td>2.944466e+10</td>\n",
       "      <td>490.116667</td>\n",
       "      <td>272.716667</td>\n",
       "      <td>2.098712e+08</td>\n",
       "      <td>321.350857</td>\n",
       "      <td>307.735571</td>\n",
       "      <td>114.223810</td>\n",
       "      <td>225.961905</td>\n",
       "      <td>136.850000</td>\n",
       "      <td>...</td>\n",
       "      <td>6.676190</td>\n",
       "      <td>11.480952</td>\n",
       "      <td>4.533333</td>\n",
       "      <td>6.492857</td>\n",
       "      <td>19.411905</td>\n",
       "      <td>4.088095</td>\n",
       "      <td>7.000000</td>\n",
       "      <td>7</td>\n",
       "      <td>5.992857</td>\n",
       "      <td>142.488095</td>\n",
       "    </tr>\n",
       "    <tr>\n",
       "      <th>2</th>\n",
       "      <td>13885394235</td>\n",
       "      <td>1.290607e+12</td>\n",
       "      <td>4751.511395</td>\n",
       "      <td>3232.768818</td>\n",
       "      <td>4.735782e+08</td>\n",
       "      <td>14178.825872</td>\n",
       "      <td>14125.037049</td>\n",
       "      <td>1357.388635</td>\n",
       "      <td>2115.204962</td>\n",
       "      <td>1015.126835</td>\n",
       "      <td>...</td>\n",
       "      <td>607.014543</td>\n",
       "      <td>517.550306</td>\n",
       "      <td>169.006837</td>\n",
       "      <td>416.491027</td>\n",
       "      <td>597.307125</td>\n",
       "      <td>437.215502</td>\n",
       "      <td>223.486832</td>\n",
       "      <td>892</td>\n",
       "      <td>143.942374</td>\n",
       "      <td>2837.746359</td>\n",
       "    </tr>\n",
       "    <tr>\n",
       "      <th>3</th>\n",
       "      <td>210679398</td>\n",
       "      <td>1.785355e+10</td>\n",
       "      <td>90.750000</td>\n",
       "      <td>53.333333</td>\n",
       "      <td>3.276579e+07</td>\n",
       "      <td>174.988333</td>\n",
       "      <td>159.265000</td>\n",
       "      <td>37.916667</td>\n",
       "      <td>10.166667</td>\n",
       "      <td>42.333333</td>\n",
       "      <td>...</td>\n",
       "      <td>3.666667</td>\n",
       "      <td>11.416667</td>\n",
       "      <td>3.750000</td>\n",
       "      <td>3.333333</td>\n",
       "      <td>10.083333</td>\n",
       "      <td>4.500000</td>\n",
       "      <td>2.333333</td>\n",
       "      <td>2</td>\n",
       "      <td>0.583333</td>\n",
       "      <td>50.666667</td>\n",
       "    </tr>\n",
       "    <tr>\n",
       "      <th>4</th>\n",
       "      <td>12698143291</td>\n",
       "      <td>1.207460e+12</td>\n",
       "      <td>4228.237708</td>\n",
       "      <td>2917.765966</td>\n",
       "      <td>5.152715e+08</td>\n",
       "      <td>14346.863319</td>\n",
       "      <td>14280.574571</td>\n",
       "      <td>1184.025694</td>\n",
       "      <td>1952.326060</td>\n",
       "      <td>864.522554</td>\n",
       "      <td>...</td>\n",
       "      <td>210.268134</td>\n",
       "      <td>495.785726</td>\n",
       "      <td>144.518305</td>\n",
       "      <td>361.639494</td>\n",
       "      <td>566.773760</td>\n",
       "      <td>376.164510</td>\n",
       "      <td>185.871574</td>\n",
       "      <td>762</td>\n",
       "      <td>134.246631</td>\n",
       "      <td>2545.493957</td>\n",
       "    </tr>\n",
       "  </tbody>\n",
       "</table>\n",
       "<p>5 rows × 37 columns</p>\n",
       "</div>"
      ],
      "text/plain": [
       "              product_id       user_id  NumOfEventsInJourney  NumSessions  \\\n",
       "cluster_pca                                                                 \n",
       "0              736144090  7.227742e+10            194.783750   158.675098   \n",
       "1              338274977  2.944466e+10            490.116667   272.716667   \n",
       "2            13885394235  1.290607e+12           4751.511395  3232.768818   \n",
       "3              210679398  1.785355e+10             90.750000    53.333333   \n",
       "4            12698143291  1.207460e+12           4228.237708  2917.765966   \n",
       "\n",
       "             interactionTime      maxPrice      minPrice      NumCart  \\\n",
       "cluster_pca                                                             \n",
       "0               1.363027e+07   8265.973334   8258.990803    16.208033   \n",
       "1               2.098712e+08    321.350857    307.735571   114.223810   \n",
       "2               4.735782e+08  14178.825872  14125.037049  1357.388635   \n",
       "3               3.276579e+07    174.988333    159.265000    37.916667   \n",
       "4               5.152715e+08  14346.863319  14280.574571  1184.025694   \n",
       "\n",
       "                 NumView    NumRemove  ...         Dec   Afternoon  \\\n",
       "cluster_pca                            ...                           \n",
       "0             164.774091     9.125688  ...   22.028645   30.322385   \n",
       "1             225.961905   136.850000  ...    6.676190   11.480952   \n",
       "2            2115.204962  1015.126835  ...  607.014543  517.550306   \n",
       "3              10.166667    42.333333  ...    3.666667   11.416667   \n",
       "4            1952.326060   864.522554  ...  210.268134  495.785726   \n",
       "\n",
       "                   Dawn  EarlyMorning     Evening     Morning       Night  \\\n",
       "cluster_pca                                                                 \n",
       "0              7.693517     25.423089   26.484665   24.067059    9.057392   \n",
       "1              4.533333      6.492857   19.411905    4.088095    7.000000   \n",
       "2            169.006837    416.491027  597.307125  437.215502  223.486832   \n",
       "3              3.750000      3.333333   10.083333    4.500000    2.333333   \n",
       "4            144.518305    361.639494  566.773760  376.164510  185.871574   \n",
       "\n",
       "             Purchased?        Noon     Category  \n",
       "cluster_pca                                       \n",
       "0                    56   11.951893   142.245487  \n",
       "1                     7    5.992857   142.488095  \n",
       "2                   892  143.942374  2837.746359  \n",
       "3                     2    0.583333    50.666667  \n",
       "4                   762  134.246631  2545.493957  \n",
       "\n",
       "[5 rows x 37 columns]"
      ]
     },
     "execution_count": 226,
     "metadata": {},
     "output_type": "execute_result"
    }
   ],
   "source": [
    "# YOUR CODE HERE\n",
    "plot_data = past.\n",
    "plot_data\n",
    "# cluster_labels = [0,1,2,3,4]\n",
    "# # cluster_sizes = [num for num in range(len(km.cluster_centers_))]\n",
    "# fig1,ax1 = plt.subplots()\n",
    "\n",
    "# pie = plt.pie(\n",
    "#                 plot_data,\n",
    "#                 labels=cluster_labels,\n",
    "#                 shadow=True,\n",
    "#                 startangle=90\n",
    "#              )\n",
    "\n",
    "# pie.axis('equal') # draw as even circle\n",
    "\n",
    "# pie.show()"
   ]
  },
  {
   "cell_type": "markdown",
   "id": "045163e7",
   "metadata": {},
   "source": [
    "10. What are the assumptions for k-means? Judging by the cluster sizes, is k-means a good approach? \n",
    "\n",
    "    Scanning the list of [clustering algorithms](https://scikit-learn.org/stable/modules/clustering.html) implemented in scikit-learn, try at least one other algorithm, examine its assumptions, and intepret results."
   ]
  },
  {
   "cell_type": "markdown",
   "id": "33bd3042",
   "metadata": {},
   "source": [
    "    *YOUR ANSWER HERE*\n",
    "The first assumption is that we must acknowledge that the k-means algorithm clusters data into spherical shapes, and second that the clusters are of similar size if the optimum cluster number has been determined and selected. The spherical assumption helps in separating the clusters when the algorithm works on the data and forms clusters.\n",
    "    \n",
    "The approach is good for data that is well organized, relatively uniform, and does not have a significant number of extreme outliers. This is because k-means has trouble clustering data where clusters are of varying sizes and density. "
   ]
  },
  {
   "cell_type": "code",
   "execution_count": 23,
   "id": "90bf70c7",
   "metadata": {},
   "outputs": [],
   "source": [
    "# YOUR CODE HERE"
   ]
  },
  {
   "cell_type": "markdown",
   "id": "f55c9ebd",
   "metadata": {},
   "source": [
    "11. Jot down recommendations or followup steps, detailing the reasons."
   ]
  },
  {
   "cell_type": "markdown",
   "id": "01a41aa0",
   "metadata": {},
   "source": [
    "    *YOUR ANSWER HERE*"
   ]
  },
  {
   "cell_type": "markdown",
   "id": "79f44672",
   "metadata": {},
   "source": [
    "## Task 3. To launch or not to launch?"
   ]
  },
  {
   "cell_type": "markdown",
   "id": "494e9fa9",
   "metadata": {},
   "source": [
    "In this task, we will work on a hypothetical application: cosmetics purchase prediction for new products with limited features. The intention here is to maximize **recall** so that no popular cosmetic is understocked. Overstocking is less of a concern since it will not cause disengagement in customers.\n",
    "\n",
    "The purchase status for each \"new\" product is known, but we only use the labels for benchmarking purpose. Instead, we use label spreading method to leverage a small amount of labeled data in combination with a larger amount of unlabeled data. "
   ]
  },
  {
   "cell_type": "markdown",
   "id": "e37a4854",
   "metadata": {},
   "source": [
    "1. Read in the data in `new.csv.gz` and save it as a `pd.DataFrame` named `new`. This is the test dataset.\n",
    "\n",
    "    Look at the shape of `new` and inspect the frist few rows."
   ]
  },
  {
   "cell_type": "code",
   "execution_count": 227,
   "id": "57ed0232",
   "metadata": {},
   "outputs": [],
   "source": [
    "# YOUR CODE HERE\n",
    "new_path = '../dat/new.csv.gz'\n",
    "new = pd.read_csv(new_path,delimiter=',')"
   ]
  },
  {
   "cell_type": "code",
   "execution_count": 228,
   "id": "8da7c797",
   "metadata": {},
   "outputs": [],
   "source": [
    "assert new.shape == (30091, 5)"
   ]
  },
  {
   "cell_type": "code",
   "execution_count": 229,
   "id": "d53a5be6",
   "metadata": {},
   "outputs": [
    {
     "data": {
      "text/html": [
       "<div>\n",
       "<style scoped>\n",
       "    .dataframe tbody tr th:only-of-type {\n",
       "        vertical-align: middle;\n",
       "    }\n",
       "\n",
       "    .dataframe tbody tr th {\n",
       "        vertical-align: top;\n",
       "    }\n",
       "\n",
       "    .dataframe thead th {\n",
       "        text-align: right;\n",
       "    }\n",
       "</style>\n",
       "<table border=\"1\" class=\"dataframe\">\n",
       "  <thead>\n",
       "    <tr style=\"text-align: right;\">\n",
       "      <th></th>\n",
       "      <th>product_id</th>\n",
       "      <th>maxPrice</th>\n",
       "      <th>minPrice</th>\n",
       "      <th>Purchased?</th>\n",
       "      <th>Category</th>\n",
       "    </tr>\n",
       "  </thead>\n",
       "  <tbody>\n",
       "    <tr>\n",
       "      <th>0</th>\n",
       "      <td>5866502</td>\n",
       "      <td>7.616667</td>\n",
       "      <td>7.616667</td>\n",
       "      <td>0</td>\n",
       "      <td>1.0</td>\n",
       "    </tr>\n",
       "    <tr>\n",
       "      <th>1</th>\n",
       "      <td>5870408</td>\n",
       "      <td>6.270000</td>\n",
       "      <td>6.270000</td>\n",
       "      <td>0</td>\n",
       "      <td>3.0</td>\n",
       "    </tr>\n",
       "    <tr>\n",
       "      <th>2</th>\n",
       "      <td>5900580</td>\n",
       "      <td>10.008000</td>\n",
       "      <td>10.008000</td>\n",
       "      <td>0</td>\n",
       "      <td>1.0</td>\n",
       "    </tr>\n",
       "    <tr>\n",
       "      <th>3</th>\n",
       "      <td>5918778</td>\n",
       "      <td>5.980000</td>\n",
       "      <td>5.980000</td>\n",
       "      <td>0</td>\n",
       "      <td>2.5</td>\n",
       "    </tr>\n",
       "    <tr>\n",
       "      <th>4</th>\n",
       "      <td>5848772</td>\n",
       "      <td>26.830000</td>\n",
       "      <td>26.830000</td>\n",
       "      <td>0</td>\n",
       "      <td>1.0</td>\n",
       "    </tr>\n",
       "  </tbody>\n",
       "</table>\n",
       "</div>"
      ],
      "text/plain": [
       "   product_id   maxPrice   minPrice  Purchased?  Category\n",
       "0     5866502   7.616667   7.616667           0       1.0\n",
       "1     5870408   6.270000   6.270000           0       3.0\n",
       "2     5900580  10.008000  10.008000           0       1.0\n",
       "3     5918778   5.980000   5.980000           0       2.5\n",
       "4     5848772  26.830000  26.830000           0       1.0"
      ]
     },
     "execution_count": 229,
     "metadata": {},
     "output_type": "execute_result"
    }
   ],
   "source": [
    "new.head()"
   ]
  },
  {
   "cell_type": "markdown",
   "id": "c7637957",
   "metadata": {},
   "source": [
    "2. How does the number of data points in the training set (`past`) compare to the number of datapoints in the test set (`new`)? \n",
    "\n",
    "    And how does the feature set in the training set compare to the feature set in the test set?"
   ]
  },
  {
   "cell_type": "code",
   "execution_count": 230,
   "id": "03ba215b",
   "metadata": {},
   "outputs": [
    {
     "data": {
      "text/plain": [
       "{'new': (30091, 5), 'past': (5000, 38)}"
      ]
     },
     "execution_count": 230,
     "metadata": {},
     "output_type": "execute_result"
    }
   ],
   "source": [
    "shapes = {\n",
    "'new': new.shape,\n",
    "'past': past.shape\n",
    "}\n",
    "shapes"
   ]
  },
  {
   "cell_type": "markdown",
   "id": "1ee95e44",
   "metadata": {},
   "source": [
    "        *YOUR ANSWER HERE*\n",
    "This new dataset counts a much large set of data."
   ]
  },
  {
   "cell_type": "markdown",
   "id": "223870d9",
   "metadata": {},
   "source": [
    "\n",
    "*The number of datapoints in the training set is relatively small while the test set is quite large. The training set has more features than in the test set.*"
   ]
  },
  {
   "cell_type": "markdown",
   "id": "6b229240",
   "metadata": {},
   "source": [
    "3. Are there any product ids in both the training and test datasets? Hint: use `np.intersect1d` or set operations."
   ]
  },
  {
   "cell_type": "code",
   "execution_count": 233,
   "id": "bec1dfec",
   "metadata": {},
   "outputs": [],
   "source": [
    "# YOUR CODE HERE\n",
    "import numpy as np"
   ]
  },
  {
   "cell_type": "code",
   "execution_count": 237,
   "id": "5014647a",
   "metadata": {},
   "outputs": [
    {
     "data": {
      "text/html": [
       "<div>\n",
       "<style scoped>\n",
       "    .dataframe tbody tr th:only-of-type {\n",
       "        vertical-align: middle;\n",
       "    }\n",
       "\n",
       "    .dataframe tbody tr th {\n",
       "        vertical-align: top;\n",
       "    }\n",
       "\n",
       "    .dataframe thead th {\n",
       "        text-align: right;\n",
       "    }\n",
       "</style>\n",
       "<table border=\"1\" class=\"dataframe\">\n",
       "  <thead>\n",
       "    <tr style=\"text-align: right;\">\n",
       "      <th></th>\n",
       "      <th>0</th>\n",
       "    </tr>\n",
       "  </thead>\n",
       "  <tbody>\n",
       "    <tr>\n",
       "      <th>0</th>\n",
       "      <td>0.00</td>\n",
       "    </tr>\n",
       "    <tr>\n",
       "      <th>1</th>\n",
       "      <td>0.05</td>\n",
       "    </tr>\n",
       "    <tr>\n",
       "      <th>2</th>\n",
       "      <td>0.08</td>\n",
       "    </tr>\n",
       "    <tr>\n",
       "      <th>3</th>\n",
       "      <td>0.10</td>\n",
       "    </tr>\n",
       "    <tr>\n",
       "      <th>4</th>\n",
       "      <td>0.16</td>\n",
       "    </tr>\n",
       "    <tr>\n",
       "      <th>...</th>\n",
       "      <td>...</td>\n",
       "    </tr>\n",
       "    <tr>\n",
       "      <th>1829</th>\n",
       "      <td>4647.00</td>\n",
       "    </tr>\n",
       "    <tr>\n",
       "      <th>1830</th>\n",
       "      <td>4689.00</td>\n",
       "    </tr>\n",
       "    <tr>\n",
       "      <th>1831</th>\n",
       "      <td>5013.00</td>\n",
       "    </tr>\n",
       "    <tr>\n",
       "      <th>1832</th>\n",
       "      <td>5143.00</td>\n",
       "    </tr>\n",
       "    <tr>\n",
       "      <th>1833</th>\n",
       "      <td>6950.00</td>\n",
       "    </tr>\n",
       "  </tbody>\n",
       "</table>\n",
       "<p>1834 rows × 1 columns</p>\n",
       "</div>"
      ],
      "text/plain": [
       "            0\n",
       "0        0.00\n",
       "1        0.05\n",
       "2        0.08\n",
       "3        0.10\n",
       "4        0.16\n",
       "...       ...\n",
       "1829  4647.00\n",
       "1830  4689.00\n",
       "1831  5013.00\n",
       "1832  5143.00\n",
       "1833  6950.00\n",
       "\n",
       "[1834 rows x 1 columns]"
      ]
     },
     "execution_count": 237,
     "metadata": {},
     "output_type": "execute_result"
    }
   ],
   "source": [
    "intersects = np.intersect1d(new,past)\n",
    "intersects = pd.DataFrame(intersects)\n",
    "intersects"
   ]
  },
  {
   "cell_type": "markdown",
   "id": "06769b43",
   "metadata": {},
   "source": [
    "4. What percentage of data points resulted in a purchase in the test set?\n",
    "\n",
    "    In reality, we won't be able to calculate information that is not available to you. Here, we simply demonstrated that the distributions in target between `past` and `new` are similar. "
   ]
  },
  {
   "cell_type": "code",
   "execution_count": 254,
   "id": "39aa4615",
   "metadata": {
    "scrolled": true
   },
   "outputs": [
    {
     "data": {
      "text/plain": [
       "34.38"
      ]
     },
     "execution_count": 254,
     "metadata": {},
     "output_type": "execute_result"
    }
   ],
   "source": [
    "percent = (past['Purchased?'] == 1).sum() / len(past) * 100\n",
    "\n",
    "percent\n",
    "# YOUR CODE HERE # ~.344"
   ]
  },
  {
   "cell_type": "markdown",
   "id": "34ae7223",
   "metadata": {},
   "source": [
    "5. Create `ndarray`s: `X_train`, `y_train`, `X_test`, and `y_test` according to the following guidelines.\n",
    "\n",
    "    - The `Purchased?` column is the target.\n",
    "    - `X_train` and `X_test` should contain the same features\n",
    "    - `product_id` should not be a feature.\n",
    "\n",
    "    Double check that the shapes of the four arrays are what you expect."
   ]
  },
  {
   "cell_type": "code",
   "execution_count": 265,
   "id": "5badbca1",
   "metadata": {},
   "outputs": [
    {
     "data": {
      "text/html": [
       "<div>\n",
       "<style scoped>\n",
       "    .dataframe tbody tr th:only-of-type {\n",
       "        vertical-align: middle;\n",
       "    }\n",
       "\n",
       "    .dataframe tbody tr th {\n",
       "        vertical-align: top;\n",
       "    }\n",
       "\n",
       "    .dataframe thead th {\n",
       "        text-align: right;\n",
       "    }\n",
       "</style>\n",
       "<table border=\"1\" class=\"dataframe\">\n",
       "  <thead>\n",
       "    <tr style=\"text-align: right;\">\n",
       "      <th></th>\n",
       "      <th>product_id</th>\n",
       "      <th>maxPrice</th>\n",
       "      <th>minPrice</th>\n",
       "      <th>Purchased?</th>\n",
       "      <th>Category</th>\n",
       "    </tr>\n",
       "  </thead>\n",
       "  <tbody>\n",
       "    <tr>\n",
       "      <th>1248</th>\n",
       "      <td>5887286</td>\n",
       "      <td>2.980000</td>\n",
       "      <td>2.980000</td>\n",
       "      <td>1</td>\n",
       "      <td>1.571429</td>\n",
       "    </tr>\n",
       "    <tr>\n",
       "      <th>23820</th>\n",
       "      <td>5835125</td>\n",
       "      <td>5.710000</td>\n",
       "      <td>5.710000</td>\n",
       "      <td>0</td>\n",
       "      <td>1.000000</td>\n",
       "    </tr>\n",
       "    <tr>\n",
       "      <th>312</th>\n",
       "      <td>5893845</td>\n",
       "      <td>1.720000</td>\n",
       "      <td>1.720000</td>\n",
       "      <td>1</td>\n",
       "      <td>1.115385</td>\n",
       "    </tr>\n",
       "    <tr>\n",
       "      <th>805</th>\n",
       "      <td>5870370</td>\n",
       "      <td>2.060000</td>\n",
       "      <td>2.060000</td>\n",
       "      <td>1</td>\n",
       "      <td>1.750000</td>\n",
       "    </tr>\n",
       "    <tr>\n",
       "      <th>10566</th>\n",
       "      <td>5825240</td>\n",
       "      <td>15.303333</td>\n",
       "      <td>15.303333</td>\n",
       "      <td>0</td>\n",
       "      <td>1.000000</td>\n",
       "    </tr>\n",
       "    <tr>\n",
       "      <th>...</th>\n",
       "      <td>...</td>\n",
       "      <td>...</td>\n",
       "      <td>...</td>\n",
       "      <td>...</td>\n",
       "      <td>...</td>\n",
       "    </tr>\n",
       "    <tr>\n",
       "      <th>9230</th>\n",
       "      <td>5825539</td>\n",
       "      <td>12.540000</td>\n",
       "      <td>12.540000</td>\n",
       "      <td>0</td>\n",
       "      <td>4.000000</td>\n",
       "    </tr>\n",
       "    <tr>\n",
       "      <th>13854</th>\n",
       "      <td>5903727</td>\n",
       "      <td>1.350000</td>\n",
       "      <td>1.350000</td>\n",
       "      <td>0</td>\n",
       "      <td>1.000000</td>\n",
       "    </tr>\n",
       "    <tr>\n",
       "      <th>17104</th>\n",
       "      <td>4661</td>\n",
       "      <td>4.732500</td>\n",
       "      <td>4.732500</td>\n",
       "      <td>0</td>\n",
       "      <td>1.000000</td>\n",
       "    </tr>\n",
       "    <tr>\n",
       "      <th>10061</th>\n",
       "      <td>5906176</td>\n",
       "      <td>1.430000</td>\n",
       "      <td>1.430000</td>\n",
       "      <td>1</td>\n",
       "      <td>1.000000</td>\n",
       "    </tr>\n",
       "    <tr>\n",
       "      <th>7508</th>\n",
       "      <td>3895</td>\n",
       "      <td>7.780000</td>\n",
       "      <td>7.780000</td>\n",
       "      <td>0</td>\n",
       "      <td>1.000000</td>\n",
       "    </tr>\n",
       "  </tbody>\n",
       "</table>\n",
       "<p>5000 rows × 5 columns</p>\n",
       "</div>"
      ],
      "text/plain": [
       "       product_id   maxPrice   minPrice  Purchased?  Category\n",
       "1248      5887286   2.980000   2.980000           1  1.571429\n",
       "23820     5835125   5.710000   5.710000           0  1.000000\n",
       "312       5893845   1.720000   1.720000           1  1.115385\n",
       "805       5870370   2.060000   2.060000           1  1.750000\n",
       "10566     5825240  15.303333  15.303333           0  1.000000\n",
       "...           ...        ...        ...         ...       ...\n",
       "9230      5825539  12.540000  12.540000           0  4.000000\n",
       "13854     5903727   1.350000   1.350000           0  1.000000\n",
       "17104        4661   4.732500   4.732500           0  1.000000\n",
       "10061     5906176   1.430000   1.430000           1  1.000000\n",
       "7508         3895   7.780000   7.780000           0  1.000000\n",
       "\n",
       "[5000 rows x 5 columns]"
      ]
     },
     "execution_count": 265,
     "metadata": {},
     "output_type": "execute_result"
    }
   ],
   "source": [
    "# YOUR CODE HERE\n",
    "# past = past.drop('product_id',axis=1)\n",
    "new_sample = new.sample(n=len(past))\n",
    "new_sample"
   ]
  },
  {
   "cell_type": "code",
   "execution_count": 268,
   "id": "34e1ded5",
   "metadata": {},
   "outputs": [],
   "source": [
    "X_train,X_test,y_train,y_test = train_test_split(past,new_sample['Purchased?'],random_state=42,test_size=0.2)"
   ]
  },
  {
   "cell_type": "code",
   "execution_count": 270,
   "id": "d8dfb6ab",
   "metadata": {},
   "outputs": [],
   "source": [
    "assert X_train.shape[0] == y_train.shape[0] # 5000\n",
    "assert X_train.shape[1] == X_test.shape[1]  # 3\n",
    "\n",
    "# assert type(X_train) == np.ndarray # make sure you import numpy as np at this point\n",
    "# assert type(X_train).__module__ == type(y_train).__module__ == np.__name__  # alternative way"
   ]
  },
  {
   "cell_type": "markdown",
   "id": "25dd22e5",
   "metadata": {},
   "source": [
    "6. Let's fit a simple logistic regression on the training set (`X_train`, `y_train`) and report performance on the test set (`X_test`, `y_test`)."
   ]
  },
  {
   "cell_type": "code",
   "execution_count": 271,
   "id": "33eea84d",
   "metadata": {},
   "outputs": [
    {
     "name": "stdout",
     "output_type": "stream",
     "text": [
      "              precision    recall  f1-score   support\n",
      "\n",
      "           0       0.66      1.00      0.80       663\n",
      "           1       0.75      0.01      0.02       337\n",
      "\n",
      "    accuracy                           0.67      1000\n",
      "   macro avg       0.71      0.50      0.41      1000\n",
      "weighted avg       0.69      0.67      0.54      1000\n",
      "\n"
     ]
    }
   ],
   "source": [
    "# YOUR CODE HERE\n",
    "\n",
    "def train(X, y, standardize = True) -> None:\n",
    "    # split\n",
    "    X_train,X_test,Y_train,Y_test = train_test_split(X,y,random_state=42,test_size=0.2)\n",
    "    \n",
    "    # pipeline\n",
    "    pipe = Pipeline([('scaler',StandardScaler()), ('model',LogisticRegression(random_state=0))])\n",
    "    \n",
    "    # fit pipeline\n",
    "    pipe.fit(X_train,Y_train)\n",
    "    \n",
    "    # score pipeline\n",
    "#     print(pipe.score(Y_train, Y_test))\n",
    "    \n",
    "    # predict\n",
    "    Y_pred = pipe.predict(X_test)\n",
    "    \n",
    "    print(classification_report(Y_test,Y_pred,labels=[0,1]))\n",
    "                                \n",
    "train(past,new_sample['Purchased?'],True)"
   ]
  },
  {
   "cell_type": "markdown",
   "id": "f8a805e6",
   "metadata": {},
   "source": [
    "7. Re-assemble data for semi-supervised learning. \n",
    "    - Use the features from the test set along with the features from the training set. \n",
    "    - Only use the labels from the training set but none from the test set.  \n",
    "    \n",
    "    Since we're using a large number of sampled features, but only a small number of these samples have labels, this is **semi-supervised learning**."
   ]
  },
  {
   "cell_type": "markdown",
   "id": "a2aa8a29",
   "metadata": {},
   "source": [
    "Create a matrix `X` that has the rows from `X_train` concatenated with the rows from `X_test`. Check the shape of the matrix."
   ]
  },
  {
   "cell_type": "code",
   "execution_count": 346,
   "id": "59d3585a",
   "metadata": {},
   "outputs": [
    {
     "data": {
      "text/html": [
       "<div>\n",
       "<style scoped>\n",
       "    .dataframe tbody tr th:only-of-type {\n",
       "        vertical-align: middle;\n",
       "    }\n",
       "\n",
       "    .dataframe tbody tr th {\n",
       "        vertical-align: top;\n",
       "    }\n",
       "\n",
       "    .dataframe thead th {\n",
       "        text-align: right;\n",
       "    }\n",
       "</style>\n",
       "<table border=\"1\" class=\"dataframe\">\n",
       "  <thead>\n",
       "    <tr style=\"text-align: right;\">\n",
       "      <th></th>\n",
       "      <th>product_id</th>\n",
       "      <th>maxPrice</th>\n",
       "      <th>Purchased?</th>\n",
       "    </tr>\n",
       "  </thead>\n",
       "  <tbody>\n",
       "    <tr>\n",
       "      <th>0</th>\n",
       "      <td>NaN</td>\n",
       "      <td>15.84000</td>\n",
       "      <td>0.0</td>\n",
       "    </tr>\n",
       "    <tr>\n",
       "      <th>1</th>\n",
       "      <td>NaN</td>\n",
       "      <td>5.80000</td>\n",
       "      <td>0.0</td>\n",
       "    </tr>\n",
       "    <tr>\n",
       "      <th>2</th>\n",
       "      <td>NaN</td>\n",
       "      <td>6.27250</td>\n",
       "      <td>0.0</td>\n",
       "    </tr>\n",
       "    <tr>\n",
       "      <th>3</th>\n",
       "      <td>NaN</td>\n",
       "      <td>5.56000</td>\n",
       "      <td>0.0</td>\n",
       "    </tr>\n",
       "    <tr>\n",
       "      <th>4</th>\n",
       "      <td>NaN</td>\n",
       "      <td>4.08625</td>\n",
       "      <td>1.0</td>\n",
       "    </tr>\n",
       "    <tr>\n",
       "      <th>...</th>\n",
       "      <td>...</td>\n",
       "      <td>...</td>\n",
       "      <td>...</td>\n",
       "    </tr>\n",
       "    <tr>\n",
       "      <th>30086</th>\n",
       "      <td>5692521.0</td>\n",
       "      <td>5.79000</td>\n",
       "      <td>NaN</td>\n",
       "    </tr>\n",
       "    <tr>\n",
       "      <th>30087</th>\n",
       "      <td>5886768.0</td>\n",
       "      <td>1.59000</td>\n",
       "      <td>NaN</td>\n",
       "    </tr>\n",
       "    <tr>\n",
       "      <th>30088</th>\n",
       "      <td>5730974.0</td>\n",
       "      <td>6.35000</td>\n",
       "      <td>NaN</td>\n",
       "    </tr>\n",
       "    <tr>\n",
       "      <th>30089</th>\n",
       "      <td>6385.0</td>\n",
       "      <td>3.47250</td>\n",
       "      <td>NaN</td>\n",
       "    </tr>\n",
       "    <tr>\n",
       "      <th>30090</th>\n",
       "      <td>5891164.0</td>\n",
       "      <td>5.56000</td>\n",
       "      <td>NaN</td>\n",
       "    </tr>\n",
       "  </tbody>\n",
       "</table>\n",
       "<p>35091 rows × 3 columns</p>\n",
       "</div>"
      ],
      "text/plain": [
       "       product_id  maxPrice  Purchased?\n",
       "0             NaN  15.84000         0.0\n",
       "1             NaN   5.80000         0.0\n",
       "2             NaN   6.27250         0.0\n",
       "3             NaN   5.56000         0.0\n",
       "4             NaN   4.08625         1.0\n",
       "...           ...       ...         ...\n",
       "30086   5692521.0   5.79000         NaN\n",
       "30087   5886768.0   1.59000         NaN\n",
       "30088   5730974.0   6.35000         NaN\n",
       "30089      6385.0   3.47250         NaN\n",
       "30090   5891164.0   5.56000         NaN\n",
       "\n",
       "[35091 rows x 3 columns]"
      ]
     },
     "execution_count": 346,
     "metadata": {},
     "output_type": "execute_result"
    }
   ],
   "source": [
    "# YOUR CODE HERE\n",
    "\n",
    "# remove labels from the test set\n",
    "new_X_test = new.drop('Purchased?',axis=1)\n",
    "new_X_train = past\n",
    "\n",
    "# concatencate rows from X_test and rows from X_train (renamed)\n",
    "all_features = pd.concat((new_X_train, new_X_test))\n",
    "\n",
    "# isolate and use features from the test set and training set\n",
    "X = all_features[['product_id','maxPrice','Purchased?']]\n",
    "X"
   ]
  },
  {
   "cell_type": "code",
   "execution_count": 320,
   "id": "c67d4d7b",
   "metadata": {},
   "outputs": [],
   "source": [
    "assert X.shape == (35091, 3)"
   ]
  },
  {
   "cell_type": "markdown",
   "id": "b1dabc7c",
   "metadata": {},
   "source": [
    "Create the target array `y` by concatenating `y_train` with a vector of -1's, effectively creating a dummy label for the `X_test` rows in `X`. Check the shape of the array. It should have as many values as `X` has rows."
   ]
  },
  {
   "cell_type": "code",
   "execution_count": 345,
   "id": "5eec0b7f",
   "metadata": {},
   "outputs": [
    {
     "data": {
      "text/html": [
       "<div>\n",
       "<style scoped>\n",
       "    .dataframe tbody tr th:only-of-type {\n",
       "        vertical-align: middle;\n",
       "    }\n",
       "\n",
       "    .dataframe tbody tr th {\n",
       "        vertical-align: top;\n",
       "    }\n",
       "\n",
       "    .dataframe thead th {\n",
       "        text-align: right;\n",
       "    }\n",
       "</style>\n",
       "<table border=\"1\" class=\"dataframe\">\n",
       "  <thead>\n",
       "    <tr style=\"text-align: right;\">\n",
       "      <th></th>\n",
       "      <th>0</th>\n",
       "    </tr>\n",
       "  </thead>\n",
       "  <tbody>\n",
       "    <tr>\n",
       "      <th>16114</th>\n",
       "      <td>0</td>\n",
       "    </tr>\n",
       "    <tr>\n",
       "      <th>28114</th>\n",
       "      <td>0</td>\n",
       "    </tr>\n",
       "    <tr>\n",
       "      <th>19909</th>\n",
       "      <td>0</td>\n",
       "    </tr>\n",
       "    <tr>\n",
       "      <th>5991</th>\n",
       "      <td>1</td>\n",
       "    </tr>\n",
       "    <tr>\n",
       "      <th>10169</th>\n",
       "      <td>0</td>\n",
       "    </tr>\n",
       "    <tr>\n",
       "      <th>...</th>\n",
       "      <td>...</td>\n",
       "    </tr>\n",
       "    <tr>\n",
       "      <th>31086</th>\n",
       "      <td>-1</td>\n",
       "    </tr>\n",
       "    <tr>\n",
       "      <th>31087</th>\n",
       "      <td>-1</td>\n",
       "    </tr>\n",
       "    <tr>\n",
       "      <th>31088</th>\n",
       "      <td>-1</td>\n",
       "    </tr>\n",
       "    <tr>\n",
       "      <th>31089</th>\n",
       "      <td>-1</td>\n",
       "    </tr>\n",
       "    <tr>\n",
       "      <th>31090</th>\n",
       "      <td>-1</td>\n",
       "    </tr>\n",
       "  </tbody>\n",
       "</table>\n",
       "<p>35091 rows × 1 columns</p>\n",
       "</div>"
      ],
      "text/plain": [
       "       0\n",
       "16114  0\n",
       "28114  0\n",
       "19909  0\n",
       "5991   1\n",
       "10169  0\n",
       "...   ..\n",
       "31086 -1\n",
       "31087 -1\n",
       "31088 -1\n",
       "31089 -1\n",
       "31090 -1\n",
       "\n",
       "[35091 rows x 1 columns]"
      ]
     },
     "execution_count": 345,
     "metadata": {},
     "output_type": "execute_result"
    }
   ],
   "source": [
    "# YOUR CODE HERE\n",
    "\n",
    "# create an array to be vectorized, it is the same length as X\n",
    "arr = [-1 for x in range(0,len(X)-len(y_train))]\n",
    "\n",
    "# vectorize\n",
    "vector = pd.DataFrame(arr)\n",
    "\n",
    "# concat with y_train\n",
    "y_target = pd.concat((y_train,vector))\n",
    "\n",
    "# rename\n",
    "y = y_target\n",
    "y"
   ]
  },
  {
   "cell_type": "code",
   "execution_count": 342,
   "id": "17318009",
   "metadata": {},
   "outputs": [],
   "source": [
    "assert X.shape[0] == y.shape[0]"
   ]
  },
  {
   "cell_type": "markdown",
   "id": "ee27528c",
   "metadata": {},
   "source": [
    "8. Semi-supervised learning. \n",
    "\n",
    "    Scikit-learn provides two label propagation models: [`LabelPropagation`](https://scikit-learn.org/stable/modules/generated/sklearn.semi_supervised.LabelPropagation.html) and [`LabelSpreading`](https://scikit-learn.org/stable/modules/generated/sklearn.semi_supervised.LabelSpreading.html). Both work by constructing a similarity graph over all items in the input dataset. `LabelSpreading` is similar to the basic Label Propagation algorithm, but it uses an affinity matrix based on the normalized graph Laplacian and soft clamping across the labels; thus more robust to noise. We will be using scikit-learn's `LabelSpreading` model with `kNN`.\n",
    "    \n",
    "    Train a `LabelSpreading` model. Set `kernel` to `knn` and `alpha` to 0.01."
   ]
  },
  {
   "cell_type": "code",
   "execution_count": 323,
   "id": "9b4ee882",
   "metadata": {},
   "outputs": [],
   "source": [
    "# YOUR CODE HERE\n",
    "from sklearn.semi_supervised import LabelSpreading"
   ]
  },
  {
   "cell_type": "code",
   "execution_count": 352,
   "id": "3658e3f4",
   "metadata": {},
   "outputs": [],
   "source": [
    "# X contains NA which we will replace with -1\n",
    "X = X.fillna(-1)"
   ]
  },
  {
   "cell_type": "code",
   "execution_count": 378,
   "id": "c9c9efad",
   "metadata": {},
   "outputs": [
    {
     "name": "stderr",
     "output_type": "stream",
     "text": [
      "/Users/mattrobinson/Library/Python/3.8/lib/python/site-packages/sklearn/semi_supervised/_label_propagation.py:222: RuntimeWarning: invalid value encountered in true_divide\n",
      "  probabilities /= normalizer\n"
     ]
    }
   ],
   "source": [
    "l_spread = LabelSpreading(kernel='knn',alpha=0.01)\n",
    "\n",
    "# flatten y, when y is a list\n",
    "y\n",
    "\n",
    "# fit semi supervised propagation model to X\n",
    "l_prop = l_spread.fit(X,y)\n",
    "\n",
    "l_preds = l_prop.predict(X)"
   ]
  },
  {
   "cell_type": "markdown",
   "id": "1095f805",
   "metadata": {},
   "source": [
    "9. Extract the predictions for the test data. \n",
    "\n",
    "    You can get the predictions from the `transduction_` attribute. Note that there is a value for every row in `X`, so select just the values that correspond to `X_test`."
   ]
  },
  {
   "cell_type": "code",
   "execution_count": 385,
   "id": "ebc64f3a",
   "metadata": {},
   "outputs": [
    {
     "data": {
      "text/plain": [
       "35091"
      ]
     },
     "execution_count": 385,
     "metadata": {},
     "output_type": "execute_result"
    }
   ],
   "source": [
    "semi_sup_preds = l_preds # YOUR CODE HERE\n",
    "len(semi_sup_preds)"
   ]
  },
  {
   "cell_type": "code",
   "execution_count": 391,
   "id": "110c2135",
   "metadata": {},
   "outputs": [
    {
     "data": {
      "text/plain": [
       "35091"
      ]
     },
     "execution_count": 391,
     "metadata": {},
     "output_type": "execute_result"
    }
   ],
   "source": [
    "len(y)"
   ]
  },
  {
   "cell_type": "code",
   "execution_count": 388,
   "id": "0c71554f",
   "metadata": {},
   "outputs": [],
   "source": [
    "assert semi_sup_preds.shape[0] == X.shape[0]"
   ]
  },
  {
   "cell_type": "markdown",
   "id": "e31745e2",
   "metadata": {},
   "source": [
    "10. Print the classification report"
   ]
  },
  {
   "cell_type": "code",
   "execution_count": 392,
   "id": "79e8fb50",
   "metadata": {},
   "outputs": [
    {
     "name": "stdout",
     "output_type": "stream",
     "text": [
      "              precision    recall  f1-score   support\n",
      "\n",
      "          -1       0.00      0.00      0.00     31091\n",
      "           0       0.06      0.82      0.12      2654\n",
      "           1       0.42      0.39      0.40      1346\n",
      "\n",
      "    accuracy                           0.08     35091\n",
      "   macro avg       0.16      0.40      0.17     35091\n",
      "weighted avg       0.02      0.08      0.02     35091\n",
      "\n"
     ]
    },
    {
     "name": "stderr",
     "output_type": "stream",
     "text": [
      "/Users/mattrobinson/Library/Python/3.8/lib/python/site-packages/sklearn/metrics/_classification.py:1318: UndefinedMetricWarning: Precision and F-score are ill-defined and being set to 0.0 in labels with no predicted samples. Use `zero_division` parameter to control this behavior.\n",
      "  _warn_prf(average, modifier, msg_start, len(result))\n",
      "/Users/mattrobinson/Library/Python/3.8/lib/python/site-packages/sklearn/metrics/_classification.py:1318: UndefinedMetricWarning: Precision and F-score are ill-defined and being set to 0.0 in labels with no predicted samples. Use `zero_division` parameter to control this behavior.\n",
      "  _warn_prf(average, modifier, msg_start, len(result))\n",
      "/Users/mattrobinson/Library/Python/3.8/lib/python/site-packages/sklearn/metrics/_classification.py:1318: UndefinedMetricWarning: Precision and F-score are ill-defined and being set to 0.0 in labels with no predicted samples. Use `zero_division` parameter to control this behavior.\n",
      "  _warn_prf(average, modifier, msg_start, len(result))\n"
     ]
    }
   ],
   "source": [
    "print(classification_report(y, semi_sup_preds)) # make sure you properly import classification_report"
   ]
  },
  {
   "cell_type": "markdown",
   "id": "f87a48ab",
   "metadata": {},
   "source": [
    "Let's bring the performance from the supervised learning model down to see the comparison; discuss the areas of improvement and reasons for improvement."
   ]
  },
  {
   "cell_type": "code",
   "execution_count": 393,
   "id": "e4f32dd6",
   "metadata": {},
   "outputs": [
    {
     "ename": "NameError",
     "evalue": "name 'y_pred' is not defined",
     "output_type": "error",
     "traceback": [
      "\u001b[0;31m---------------------------------------------------------------------------\u001b[0m",
      "\u001b[0;31mNameError\u001b[0m                                 Traceback (most recent call last)",
      "Input \u001b[0;32mIn [393]\u001b[0m, in \u001b[0;36m<cell line: 1>\u001b[0;34m()\u001b[0m\n\u001b[0;32m----> 1\u001b[0m \u001b[38;5;28mprint\u001b[39m(classification_report(y_test, \u001b[43my_pred\u001b[49m))\n",
      "\u001b[0;31mNameError\u001b[0m: name 'y_pred' is not defined"
     ]
    }
   ],
   "source": [
    "print(classification_report(y_test, y_pred))"
   ]
  },
  {
   "cell_type": "markdown",
   "id": "8f1ee798",
   "metadata": {},
   "source": [
    "    *YOUR ANSWER HERE*\n",
    "    This experiment was not successful and I need to revisit this. "
   ]
  },
  {
   "cell_type": "markdown",
   "id": "4fbc9772",
   "metadata": {},
   "source": [
    "11. Read [Small Data Can Play a Big Role in AI](https://hbr.org/2020/02/small-data-can-play-a-big-role-in-ai) and discuss with your teammate about AI tools for training AI with small data and their use cases. "
   ]
  },
  {
   "cell_type": "markdown",
   "id": "78da2390",
   "metadata": {},
   "source": [
    "## Acknowledgement & References"
   ]
  },
  {
   "cell_type": "markdown",
   "id": "67702bb8",
   "metadata": {},
   "source": [
    "- data was adapted from Kaggle: [eCommerce Events History in Cosmetics Shop](https://www.kaggle.com/mkechinov/ecommerce-events-history-in-cosmetics-shop)\n",
    "- function `visualize_silhouette` was adapted from [plot_kmeans_silhouette_analysis by scikit-learn](https://scikit-learn.org/stable/auto_examples/cluster/plot_kmeans_silhouette_analysis.html)\n",
    "- [Categorizing Online Shopping Behavior from Cosmetics to Electronics: An Analytical Framework](https://arxiv.org/pdf/2010.02503.pdf)\n",
    "- [OPAM: Online Purchasing-behavior Analysis using Machine learning](https://arxiv.org/pdf/2102.01625.pdf)"
   ]
  }
 ],
 "metadata": {
  "kernelspec": {
   "display_name": "mle-week-06",
   "language": "python",
   "name": "mle-week-06"
  },
  "language_info": {
   "codemirror_mode": {
    "name": "ipython",
    "version": 3
   },
   "file_extension": ".py",
   "mimetype": "text/x-python",
   "name": "python",
   "nbconvert_exporter": "python",
   "pygments_lexer": "ipython3",
   "version": "3.8.9"
  },
  "toc": {
   "base_numbering": 1,
   "nav_menu": {},
   "number_sections": true,
   "sideBar": true,
   "skip_h1_title": false,
   "title_cell": "Table of Contents",
   "title_sidebar": "Contents",
   "toc_cell": false,
   "toc_position": {},
   "toc_section_display": true,
   "toc_window_display": true
  },
  "vscode": {
   "interpreter": {
    "hash": "f70fe2e7e7cb52bf2bf0a2d8cc8af5768efe1556307d7c8f07dd0e6b20b16428"
   }
  }
 },
 "nbformat": 4,
 "nbformat_minor": 5
}
