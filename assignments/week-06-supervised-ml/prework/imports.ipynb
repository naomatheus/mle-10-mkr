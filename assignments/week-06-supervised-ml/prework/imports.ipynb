{
 "cells": [
  {
   "cell_type": "code",
   "execution_count": 3,
   "metadata": {
    "scrolled": false
   },
   "outputs": [
    {
     "name": "stdout",
     "output_type": "stream",
     "text": [
      "Requirement already satisfied: numpy in /opt/anaconda3/envs/mle-week-06/lib/python3.8/site-packages (1.23.5)\n",
      "Requirement already satisfied: pandas in /opt/anaconda3/envs/mle-week-06/lib/python3.8/site-packages (1.5.2)\n",
      "Requirement already satisfied: pandas-profiling in /opt/anaconda3/envs/mle-week-06/lib/python3.8/site-packages (3.5.0)\n",
      "Requirement already satisfied: matplotlib in /opt/anaconda3/envs/mle-week-06/lib/python3.8/site-packages (3.6.2)\n",
      "Requirement already satisfied: plotly in /opt/anaconda3/envs/mle-week-06/lib/python3.8/site-packages (5.11.0)\n",
      "Requirement already satisfied: scikit-learn in /opt/anaconda3/envs/mle-week-06/lib/python3.8/site-packages (1.1.3)\n",
      "Requirement already satisfied: shap in /opt/anaconda3/envs/mle-week-06/lib/python3.8/site-packages (0.41.0)\n",
      "Requirement already satisfied: tpot in /opt/anaconda3/envs/mle-week-06/lib/python3.8/site-packages (0.11.7)\n",
      "Requirement already satisfied: streamlit in /opt/anaconda3/envs/mle-week-06/lib/python3.8/site-packages (1.15.2)\n",
      "Requirement already satisfied: python-dateutil>=2.8.1 in /opt/anaconda3/envs/mle-week-06/lib/python3.8/site-packages (from pandas) (2.8.2)\n",
      "Requirement already satisfied: pytz>=2020.1 in /opt/anaconda3/envs/mle-week-06/lib/python3.8/site-packages (from pandas) (2022.6)\n",
      "Requirement already satisfied: visions[type_image_path]==0.7.5 in /opt/anaconda3/envs/mle-week-06/lib/python3.8/site-packages (from pandas-profiling) (0.7.5)\n",
      "Requirement already satisfied: statsmodels<0.14,>=0.13.2 in /opt/anaconda3/envs/mle-week-06/lib/python3.8/site-packages (from pandas-profiling) (0.13.5)\n",
      "Requirement already satisfied: typeguard<2.14,>=2.13.2 in /opt/anaconda3/envs/mle-week-06/lib/python3.8/site-packages (from pandas-profiling) (2.13.3)\n",
      "Requirement already satisfied: phik<0.13,>=0.11.1 in /opt/anaconda3/envs/mle-week-06/lib/python3.8/site-packages (from pandas-profiling) (0.12.2)\n",
      "Requirement already satisfied: requests<2.29,>=2.24.0 in /opt/anaconda3/envs/mle-week-06/lib/python3.8/site-packages (from pandas-profiling) (2.28.1)\n",
      "Requirement already satisfied: PyYAML<6.1,>=5.0.0 in /opt/anaconda3/envs/mle-week-06/lib/python3.8/site-packages (from pandas-profiling) (6.0)\n",
      "Requirement already satisfied: htmlmin==0.1.12 in /opt/anaconda3/envs/mle-week-06/lib/python3.8/site-packages (from pandas-profiling) (0.1.12)\n",
      "Requirement already satisfied: multimethod<1.10,>=1.4 in /opt/anaconda3/envs/mle-week-06/lib/python3.8/site-packages (from pandas-profiling) (1.9)\n",
      "Requirement already satisfied: scipy<1.10,>=1.4.1 in /opt/anaconda3/envs/mle-week-06/lib/python3.8/site-packages (from pandas-profiling) (1.9.3)\n",
      "Requirement already satisfied: pydantic<1.11,>=1.8.1 in /opt/anaconda3/envs/mle-week-06/lib/python3.8/site-packages (from pandas-profiling) (1.10.2)\n",
      "Requirement already satisfied: tqdm<4.65,>=4.48.2 in /opt/anaconda3/envs/mle-week-06/lib/python3.8/site-packages (from pandas-profiling) (4.64.1)\n",
      "Requirement already satisfied: jinja2<3.2,>=2.11.1 in /opt/anaconda3/envs/mle-week-06/lib/python3.8/site-packages (from pandas-profiling) (3.1.2)\n",
      "Requirement already satisfied: seaborn<0.13,>=0.10.1 in /opt/anaconda3/envs/mle-week-06/lib/python3.8/site-packages (from pandas-profiling) (0.12.1)\n",
      "Requirement already satisfied: attrs>=19.3.0 in /opt/anaconda3/envs/mle-week-06/lib/python3.8/site-packages (from visions[type_image_path]==0.7.5->pandas-profiling) (22.1.0)\n",
      "Requirement already satisfied: networkx>=2.4 in /opt/anaconda3/envs/mle-week-06/lib/python3.8/site-packages (from visions[type_image_path]==0.7.5->pandas-profiling) (2.8.8)\n",
      "Requirement already satisfied: tangled-up-in-unicode>=0.0.4 in /opt/anaconda3/envs/mle-week-06/lib/python3.8/site-packages (from visions[type_image_path]==0.7.5->pandas-profiling) (0.2.0)\n",
      "Requirement already satisfied: Pillow in /opt/anaconda3/envs/mle-week-06/lib/python3.8/site-packages (from visions[type_image_path]==0.7.5->pandas-profiling) (9.3.0)\n",
      "Requirement already satisfied: imagehash in /opt/anaconda3/envs/mle-week-06/lib/python3.8/site-packages (from visions[type_image_path]==0.7.5->pandas-profiling) (4.3.1)\n",
      "Requirement already satisfied: pyparsing>=2.2.1 in /opt/anaconda3/envs/mle-week-06/lib/python3.8/site-packages (from matplotlib) (3.0.9)\n",
      "Requirement already satisfied: contourpy>=1.0.1 in /opt/anaconda3/envs/mle-week-06/lib/python3.8/site-packages (from matplotlib) (1.0.6)\n",
      "Requirement already satisfied: fonttools>=4.22.0 in /opt/anaconda3/envs/mle-week-06/lib/python3.8/site-packages (from matplotlib) (4.38.0)\n",
      "Requirement already satisfied: cycler>=0.10 in /opt/anaconda3/envs/mle-week-06/lib/python3.8/site-packages (from matplotlib) (0.11.0)\n",
      "Requirement already satisfied: kiwisolver>=1.0.1 in /opt/anaconda3/envs/mle-week-06/lib/python3.8/site-packages (from matplotlib) (1.4.4)\n",
      "Requirement already satisfied: packaging>=20.0 in /opt/anaconda3/envs/mle-week-06/lib/python3.8/site-packages (from matplotlib) (21.3)\n",
      "Requirement already satisfied: tenacity>=6.2.0 in /opt/anaconda3/envs/mle-week-06/lib/python3.8/site-packages (from plotly) (8.1.0)\n",
      "Requirement already satisfied: threadpoolctl>=2.0.0 in /opt/anaconda3/envs/mle-week-06/lib/python3.8/site-packages (from scikit-learn) (3.1.0)\n",
      "Requirement already satisfied: joblib>=1.0.0 in /opt/anaconda3/envs/mle-week-06/lib/python3.8/site-packages (from scikit-learn) (1.2.0)\n",
      "Requirement already satisfied: slicer==0.0.7 in /opt/anaconda3/envs/mle-week-06/lib/python3.8/site-packages (from shap) (0.0.7)\n",
      "Requirement already satisfied: cloudpickle in /opt/anaconda3/envs/mle-week-06/lib/python3.8/site-packages (from shap) (2.2.0)\n",
      "Requirement already satisfied: numba in /opt/anaconda3/envs/mle-week-06/lib/python3.8/site-packages (from shap) (0.56.4)\n",
      "Requirement already satisfied: stopit>=1.1.1 in /opt/anaconda3/envs/mle-week-06/lib/python3.8/site-packages (from tpot) (1.1.2)\n",
      "Requirement already satisfied: xgboost>=1.1.0 in /opt/anaconda3/envs/mle-week-06/lib/python3.8/site-packages (from tpot) (1.7.1)\n",
      "Requirement already satisfied: update-checker>=0.16 in /opt/anaconda3/envs/mle-week-06/lib/python3.8/site-packages (from tpot) (0.18.0)\n",
      "Requirement already satisfied: deap>=1.2 in /opt/anaconda3/envs/mle-week-06/lib/python3.8/site-packages (from tpot) (1.3.3)\n",
      "Requirement already satisfied: pympler>=0.9 in /opt/anaconda3/envs/mle-week-06/lib/python3.8/site-packages (from streamlit) (1.0.1)\n",
      "Requirement already satisfied: click>=7.0 in /opt/anaconda3/envs/mle-week-06/lib/python3.8/site-packages (from streamlit) (8.1.3)\n",
      "Requirement already satisfied: blinker>=1.0.0 in /opt/anaconda3/envs/mle-week-06/lib/python3.8/site-packages (from streamlit) (1.5)\n",
      "Requirement already satisfied: cachetools>=4.0 in /opt/anaconda3/envs/mle-week-06/lib/python3.8/site-packages (from streamlit) (5.2.0)\n",
      "Requirement already satisfied: semver in /opt/anaconda3/envs/mle-week-06/lib/python3.8/site-packages (from streamlit) (2.13.0)\n",
      "Requirement already satisfied: toml in /opt/anaconda3/envs/mle-week-06/lib/python3.8/site-packages (from streamlit) (0.10.2)\n",
      "Requirement already satisfied: pydeck>=0.1.dev5 in /opt/anaconda3/envs/mle-week-06/lib/python3.8/site-packages (from streamlit) (0.8.0)\n",
      "Requirement already satisfied: altair>=3.2.0 in /opt/anaconda3/envs/mle-week-06/lib/python3.8/site-packages (from streamlit) (4.2.0)\n",
      "Requirement already satisfied: rich>=10.11.0 in /opt/anaconda3/envs/mle-week-06/lib/python3.8/site-packages (from streamlit) (12.6.0)\n",
      "Requirement already satisfied: importlib-metadata>=1.4 in /opt/anaconda3/envs/mle-week-06/lib/python3.8/site-packages (from streamlit) (5.1.0)\n",
      "Requirement already satisfied: tzlocal>=1.1 in /opt/anaconda3/envs/mle-week-06/lib/python3.8/site-packages (from streamlit) (4.2)\n",
      "Requirement already satisfied: protobuf<4,>=3.12 in /opt/anaconda3/envs/mle-week-06/lib/python3.8/site-packages (from streamlit) (3.20.3)\n",
      "Requirement already satisfied: typing-extensions>=3.10.0.0 in /opt/anaconda3/envs/mle-week-06/lib/python3.8/site-packages (from streamlit) (4.4.0)\n",
      "Requirement already satisfied: validators>=0.2 in /opt/anaconda3/envs/mle-week-06/lib/python3.8/site-packages (from streamlit) (0.20.0)\n",
      "Requirement already satisfied: gitpython!=3.1.19 in /opt/anaconda3/envs/mle-week-06/lib/python3.8/site-packages (from streamlit) (3.1.29)\n",
      "Requirement already satisfied: pyarrow>=4.0 in /opt/anaconda3/envs/mle-week-06/lib/python3.8/site-packages (from streamlit) (10.0.1)\n",
      "Requirement already satisfied: tornado>=5.0 in /opt/anaconda3/envs/mle-week-06/lib/python3.8/site-packages (from streamlit) (6.2)\n",
      "Requirement already satisfied: jsonschema>=3.0 in /opt/anaconda3/envs/mle-week-06/lib/python3.8/site-packages (from altair>=3.2.0->streamlit) (4.17.3)\n",
      "Requirement already satisfied: entrypoints in /opt/anaconda3/envs/mle-week-06/lib/python3.8/site-packages (from altair>=3.2.0->streamlit) (0.4)\n",
      "Requirement already satisfied: toolz in /opt/anaconda3/envs/mle-week-06/lib/python3.8/site-packages (from altair>=3.2.0->streamlit) (0.12.0)\n",
      "Requirement already satisfied: gitdb<5,>=4.0.1 in /opt/anaconda3/envs/mle-week-06/lib/python3.8/site-packages (from gitpython!=3.1.19->streamlit) (4.0.10)\n"
     ]
    },
    {
     "name": "stdout",
     "output_type": "stream",
     "text": [
      "Requirement already satisfied: zipp>=0.5 in /opt/anaconda3/envs/mle-week-06/lib/python3.8/site-packages (from importlib-metadata>=1.4->streamlit) (3.11.0)\n",
      "Requirement already satisfied: MarkupSafe>=2.0 in /opt/anaconda3/envs/mle-week-06/lib/python3.8/site-packages (from jinja2<3.2,>=2.11.1->pandas-profiling) (2.1.1)\n",
      "Requirement already satisfied: six>=1.5 in /opt/anaconda3/envs/mle-week-06/lib/python3.8/site-packages (from python-dateutil>=2.8.1->pandas) (1.16.0)\n",
      "Requirement already satisfied: urllib3<1.27,>=1.21.1 in /opt/anaconda3/envs/mle-week-06/lib/python3.8/site-packages (from requests<2.29,>=2.24.0->pandas-profiling) (1.26.13)\n",
      "Requirement already satisfied: certifi>=2017.4.17 in /opt/anaconda3/envs/mle-week-06/lib/python3.8/site-packages (from requests<2.29,>=2.24.0->pandas-profiling) (2022.9.24)\n",
      "Requirement already satisfied: charset-normalizer<3,>=2 in /opt/anaconda3/envs/mle-week-06/lib/python3.8/site-packages (from requests<2.29,>=2.24.0->pandas-profiling) (2.1.1)\n",
      "Requirement already satisfied: idna<4,>=2.5 in /opt/anaconda3/envs/mle-week-06/lib/python3.8/site-packages (from requests<2.29,>=2.24.0->pandas-profiling) (3.4)\n",
      "Requirement already satisfied: commonmark<0.10.0,>=0.9.0 in /opt/anaconda3/envs/mle-week-06/lib/python3.8/site-packages (from rich>=10.11.0->streamlit) (0.9.1)\n",
      "Requirement already satisfied: pygments<3.0.0,>=2.6.0 in /opt/anaconda3/envs/mle-week-06/lib/python3.8/site-packages (from rich>=10.11.0->streamlit) (2.13.0)\n",
      "Requirement already satisfied: patsy>=0.5.2 in /opt/anaconda3/envs/mle-week-06/lib/python3.8/site-packages (from statsmodels<0.14,>=0.13.2->pandas-profiling) (0.5.3)\n",
      "Requirement already satisfied: backports.zoneinfo in /opt/anaconda3/envs/mle-week-06/lib/python3.8/site-packages (from tzlocal>=1.1->streamlit) (0.2.1)\n",
      "Requirement already satisfied: pytz-deprecation-shim in /opt/anaconda3/envs/mle-week-06/lib/python3.8/site-packages (from tzlocal>=1.1->streamlit) (0.1.0.post0)\n",
      "Requirement already satisfied: decorator>=3.4.0 in /opt/anaconda3/envs/mle-week-06/lib/python3.8/site-packages (from validators>=0.2->streamlit) (5.1.1)\n",
      "Requirement already satisfied: setuptools in /opt/anaconda3/envs/mle-week-06/lib/python3.8/site-packages (from numba->shap) (65.5.0)\n",
      "Requirement already satisfied: llvmlite<0.40,>=0.39.0dev0 in /opt/anaconda3/envs/mle-week-06/lib/python3.8/site-packages (from numba->shap) (0.39.1)\n",
      "Requirement already satisfied: smmap<6,>=3.0.1 in /opt/anaconda3/envs/mle-week-06/lib/python3.8/site-packages (from gitdb<5,>=4.0.1->gitpython!=3.1.19->streamlit) (5.0.0)\n",
      "Requirement already satisfied: importlib-resources>=1.4.0 in /opt/anaconda3/envs/mle-week-06/lib/python3.8/site-packages (from jsonschema>=3.0->altair>=3.2.0->streamlit) (5.10.0)\n",
      "Requirement already satisfied: pkgutil-resolve-name>=1.3.10 in /opt/anaconda3/envs/mle-week-06/lib/python3.8/site-packages (from jsonschema>=3.0->altair>=3.2.0->streamlit) (1.3.10)\n",
      "Requirement already satisfied: pyrsistent!=0.17.0,!=0.17.1,!=0.17.2,>=0.14.0 in /opt/anaconda3/envs/mle-week-06/lib/python3.8/site-packages (from jsonschema>=3.0->altair>=3.2.0->streamlit) (0.19.2)\n",
      "Requirement already satisfied: PyWavelets in /opt/anaconda3/envs/mle-week-06/lib/python3.8/site-packages (from imagehash->visions[type_image_path]==0.7.5->pandas-profiling) (1.4.1)\n",
      "Requirement already satisfied: tzdata in /opt/anaconda3/envs/mle-week-06/lib/python3.8/site-packages (from pytz-deprecation-shim->tzlocal>=1.1->streamlit) (2022.7)\n"
     ]
    }
   ],
   "source": [
    "!pip install numpy pandas pandas-profiling matplotlib plotly scikit-learn shap tpot streamlit"
   ]
  },
  {
   "cell_type": "code",
   "execution_count": 5,
   "metadata": {},
   "outputs": [
    {
     "name": "stdout",
     "output_type": "stream",
     "text": [
      "Requirement already satisfied: pandas-profiling in /opt/anaconda3/envs/mle-week-06/lib/python3.8/site-packages (3.5.0)\n",
      "Requirement already satisfied: phik<0.13,>=0.11.1 in /opt/anaconda3/envs/mle-week-06/lib/python3.8/site-packages (from pandas-profiling) (0.12.2)\n",
      "Requirement already satisfied: numpy<1.24,>=1.16.0 in /opt/anaconda3/envs/mle-week-06/lib/python3.8/site-packages (from pandas-profiling) (1.23.5)\n",
      "Requirement already satisfied: htmlmin==0.1.12 in /opt/anaconda3/envs/mle-week-06/lib/python3.8/site-packages (from pandas-profiling) (0.1.12)\n",
      "Requirement already satisfied: statsmodels<0.14,>=0.13.2 in /opt/anaconda3/envs/mle-week-06/lib/python3.8/site-packages (from pandas-profiling) (0.13.5)\n",
      "Requirement already satisfied: jinja2<3.2,>=2.11.1 in /opt/anaconda3/envs/mle-week-06/lib/python3.8/site-packages (from pandas-profiling) (3.1.2)\n",
      "Requirement already satisfied: scipy<1.10,>=1.4.1 in /opt/anaconda3/envs/mle-week-06/lib/python3.8/site-packages (from pandas-profiling) (1.9.3)\n",
      "Requirement already satisfied: PyYAML<6.1,>=5.0.0 in /opt/anaconda3/envs/mle-week-06/lib/python3.8/site-packages (from pandas-profiling) (6.0)\n",
      "Requirement already satisfied: matplotlib<3.7,>=3.2 in /opt/anaconda3/envs/mle-week-06/lib/python3.8/site-packages (from pandas-profiling) (3.6.2)\n",
      "Requirement already satisfied: pandas!=1.4.0,<1.6,>1.1 in /opt/anaconda3/envs/mle-week-06/lib/python3.8/site-packages (from pandas-profiling) (1.5.2)\n",
      "Requirement already satisfied: visions[type_image_path]==0.7.5 in /opt/anaconda3/envs/mle-week-06/lib/python3.8/site-packages (from pandas-profiling) (0.7.5)\n",
      "Requirement already satisfied: requests<2.29,>=2.24.0 in /opt/anaconda3/envs/mle-week-06/lib/python3.8/site-packages (from pandas-profiling) (2.28.1)\n",
      "Requirement already satisfied: tqdm<4.65,>=4.48.2 in /opt/anaconda3/envs/mle-week-06/lib/python3.8/site-packages (from pandas-profiling) (4.64.1)\n",
      "Requirement already satisfied: seaborn<0.13,>=0.10.1 in /opt/anaconda3/envs/mle-week-06/lib/python3.8/site-packages (from pandas-profiling) (0.12.1)\n",
      "Requirement already satisfied: multimethod<1.10,>=1.4 in /opt/anaconda3/envs/mle-week-06/lib/python3.8/site-packages (from pandas-profiling) (1.9)\n",
      "Requirement already satisfied: typeguard<2.14,>=2.13.2 in /opt/anaconda3/envs/mle-week-06/lib/python3.8/site-packages (from pandas-profiling) (2.13.3)\n",
      "Requirement already satisfied: pydantic<1.11,>=1.8.1 in /opt/anaconda3/envs/mle-week-06/lib/python3.8/site-packages (from pandas-profiling) (1.10.2)\n",
      "Requirement already satisfied: networkx>=2.4 in /opt/anaconda3/envs/mle-week-06/lib/python3.8/site-packages (from visions[type_image_path]==0.7.5->pandas-profiling) (2.8.8)\n",
      "Requirement already satisfied: tangled-up-in-unicode>=0.0.4 in /opt/anaconda3/envs/mle-week-06/lib/python3.8/site-packages (from visions[type_image_path]==0.7.5->pandas-profiling) (0.2.0)\n",
      "Requirement already satisfied: attrs>=19.3.0 in /opt/anaconda3/envs/mle-week-06/lib/python3.8/site-packages (from visions[type_image_path]==0.7.5->pandas-profiling) (22.1.0)\n",
      "Requirement already satisfied: imagehash in /opt/anaconda3/envs/mle-week-06/lib/python3.8/site-packages (from visions[type_image_path]==0.7.5->pandas-profiling) (4.3.1)\n",
      "Requirement already satisfied: Pillow in /opt/anaconda3/envs/mle-week-06/lib/python3.8/site-packages (from visions[type_image_path]==0.7.5->pandas-profiling) (9.3.0)\n",
      "Requirement already satisfied: MarkupSafe>=2.0 in /opt/anaconda3/envs/mle-week-06/lib/python3.8/site-packages (from jinja2<3.2,>=2.11.1->pandas-profiling) (2.1.1)\n",
      "Requirement already satisfied: fonttools>=4.22.0 in /opt/anaconda3/envs/mle-week-06/lib/python3.8/site-packages (from matplotlib<3.7,>=3.2->pandas-profiling) (4.38.0)\n",
      "Requirement already satisfied: cycler>=0.10 in /opt/anaconda3/envs/mle-week-06/lib/python3.8/site-packages (from matplotlib<3.7,>=3.2->pandas-profiling) (0.11.0)\n",
      "Requirement already satisfied: contourpy>=1.0.1 in /opt/anaconda3/envs/mle-week-06/lib/python3.8/site-packages (from matplotlib<3.7,>=3.2->pandas-profiling) (1.0.6)\n",
      "Requirement already satisfied: pyparsing>=2.2.1 in /opt/anaconda3/envs/mle-week-06/lib/python3.8/site-packages (from matplotlib<3.7,>=3.2->pandas-profiling) (3.0.9)\n",
      "Requirement already satisfied: python-dateutil>=2.7 in /opt/anaconda3/envs/mle-week-06/lib/python3.8/site-packages (from matplotlib<3.7,>=3.2->pandas-profiling) (2.8.2)\n",
      "Requirement already satisfied: packaging>=20.0 in /opt/anaconda3/envs/mle-week-06/lib/python3.8/site-packages (from matplotlib<3.7,>=3.2->pandas-profiling) (21.3)\n",
      "Requirement already satisfied: kiwisolver>=1.0.1 in /opt/anaconda3/envs/mle-week-06/lib/python3.8/site-packages (from matplotlib<3.7,>=3.2->pandas-profiling) (1.4.4)\n",
      "Requirement already satisfied: pytz>=2020.1 in /opt/anaconda3/envs/mle-week-06/lib/python3.8/site-packages (from pandas!=1.4.0,<1.6,>1.1->pandas-profiling) (2022.6)\n",
      "Requirement already satisfied: joblib>=0.14.1 in /opt/anaconda3/envs/mle-week-06/lib/python3.8/site-packages (from phik<0.13,>=0.11.1->pandas-profiling) (1.2.0)\n",
      "Requirement already satisfied: typing-extensions>=4.1.0 in /opt/anaconda3/envs/mle-week-06/lib/python3.8/site-packages (from pydantic<1.11,>=1.8.1->pandas-profiling) (4.4.0)\n",
      "Requirement already satisfied: certifi>=2017.4.17 in /opt/anaconda3/envs/mle-week-06/lib/python3.8/site-packages (from requests<2.29,>=2.24.0->pandas-profiling) (2022.9.24)\n",
      "Requirement already satisfied: idna<4,>=2.5 in /opt/anaconda3/envs/mle-week-06/lib/python3.8/site-packages (from requests<2.29,>=2.24.0->pandas-profiling) (3.4)\n",
      "Requirement already satisfied: charset-normalizer<3,>=2 in /opt/anaconda3/envs/mle-week-06/lib/python3.8/site-packages (from requests<2.29,>=2.24.0->pandas-profiling) (2.1.1)\n",
      "Requirement already satisfied: urllib3<1.27,>=1.21.1 in /opt/anaconda3/envs/mle-week-06/lib/python3.8/site-packages (from requests<2.29,>=2.24.0->pandas-profiling) (1.26.13)\n",
      "Requirement already satisfied: patsy>=0.5.2 in /opt/anaconda3/envs/mle-week-06/lib/python3.8/site-packages (from statsmodels<0.14,>=0.13.2->pandas-profiling) (0.5.3)\n",
      "Requirement already satisfied: six in /opt/anaconda3/envs/mle-week-06/lib/python3.8/site-packages (from patsy>=0.5.2->statsmodels<0.14,>=0.13.2->pandas-profiling) (1.16.0)\n",
      "Requirement already satisfied: PyWavelets in /opt/anaconda3/envs/mle-week-06/lib/python3.8/site-packages (from imagehash->visions[type_image_path]==0.7.5->pandas-profiling) (1.4.1)\n"
     ]
    }
   ],
   "source": [
    "!pip install pandas-profiling"
   ]
  },
  {
   "cell_type": "code",
   "execution_count": null,
   "metadata": {},
   "outputs": [],
   "source": [
    "import numpy as np\n",
    "import pandas as pd\n",
    "from pandas_profiling import ProfileReport\n",
    "import matplotlib.pyplot as plt\n",
    "import plotly \n",
    "import sklearn \n",
    "import shap\n",
    "import tpot\n",
    "import streamlit as st"
   ]
  },
  {
   "cell_type": "code",
   "execution_count": null,
   "metadata": {},
   "outputs": [],
   "source": [
    "! conda install pandas-profiling | y"
   ]
  }
 ],
 "metadata": {
  "kernelspec": {
   "display_name": "mle-week-06",
   "language": "python",
   "name": "mle-week-06"
  },
  "language_info": {
   "codemirror_mode": {
    "name": "ipython",
    "version": 3
   },
   "file_extension": ".py",
   "mimetype": "text/x-python",
   "name": "python",
   "nbconvert_exporter": "python",
   "pygments_lexer": "ipython3",
   "version": "3.8.9"
  },
  "toc": {
   "base_numbering": 1,
   "nav_menu": {},
   "number_sections": true,
   "sideBar": true,
   "skip_h1_title": false,
   "title_cell": "Table of Contents",
   "title_sidebar": "Contents",
   "toc_cell": false,
   "toc_position": {},
   "toc_section_display": true,
   "toc_window_display": false
  },
  "vscode": {
   "interpreter": {
    "hash": "c57794392b841cffd8686d5c4548e4e2ec78521f49300d60954d1380f1b4bd1f"
   }
  }
 },
 "nbformat": 4,
 "nbformat_minor": 2
}
