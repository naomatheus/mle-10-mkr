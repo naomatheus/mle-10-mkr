{
 "cells": [
  {
   "cell_type": "markdown",
   "metadata": {},
   "source": [
    "# Sanity Check"
   ]
  },
  {
   "cell_type": "markdown",
   "metadata": {},
   "source": [
    "Run the following cell to load the necessary packages. And if you see any errors, please inform instructors to help you troubleshoot; otherwise, you are ready to have fun on Thursday!"
   ]
  },
  {
   "cell_type": "code",
   "execution_count": 6,
   "metadata": {},
   "outputs": [
    {
     "name": "stdout",
     "output_type": "stream",
     "text": [
      "zsh:1: command not found: y\n",
      "Collecting package metadata (current_repodata.json): done\n",
      "Solving environment: done\n",
      "\n",
      "## Package Plan ##\n",
      "\n",
      "  environment location: /opt/anaconda3/envs/walmart-sales\n",
      "\n",
      "  added / updated specs:\n",
      "    - matplotlib\n",
      "    - numpy\n",
      "    - pandas\n",
      "    - scikit-learn\n",
      "    - seaborn\n",
      "\n",
      "\n",
      "The following NEW packages will be INSTALLED:\n",
      "\n",
      "  blas               pkgs/main/osx-arm64::blas-1.0-openblas None\n",
      "  bottleneck         pkgs/main/osx-arm64::bottleneck-1.3.5-py38heec5a64_0 None\n",
      "  brotli             pkgs/main/osx-arm64::brotli-1.0.9-h1a28f6b_7 None\n",
      "  brotli-bin         pkgs/main/osx-arm64::brotli-bin-1.0.9-h1a28f6b_7 None\n",
      "  cycler             pkgs/main/noarch::cycler-0.11.0-pyhd3eb1b0_0 None\n",
      "  fftw               pkgs/main/osx-arm64::fftw-3.3.9-h1a28f6b_1 None\n",
      "  fonttools          pkgs/main/noarch::fonttools-4.25.0-pyhd3eb1b0_0 None\n",
      "  freetype           pkgs/main/osx-arm64::freetype-2.12.1-h1192e45_0 None\n",
      "  giflib             pkgs/main/osx-arm64::giflib-5.2.1-h1a28f6b_0 None\n",
      "  joblib             pkgs/main/osx-arm64::joblib-1.1.1-py38hca03da5_0 None\n",
      "  jpeg               pkgs/main/osx-arm64::jpeg-9e-h1a28f6b_0 None\n",
      "  kiwisolver         pkgs/main/osx-arm64::kiwisolver-1.4.2-py38hc377ac9_0 None\n",
      "  lcms2              pkgs/main/osx-arm64::lcms2-2.12-hba8e193_0 None\n",
      "  lerc               pkgs/main/osx-arm64::lerc-3.0-hc377ac9_0 None\n",
      "  libbrotlicommon    pkgs/main/osx-arm64::libbrotlicommon-1.0.9-h1a28f6b_7 None\n",
      "  libbrotlidec       pkgs/main/osx-arm64::libbrotlidec-1.0.9-h1a28f6b_7 None\n",
      "  libbrotlienc       pkgs/main/osx-arm64::libbrotlienc-1.0.9-h1a28f6b_7 None\n",
      "  libdeflate         pkgs/main/osx-arm64::libdeflate-1.8-h1a28f6b_5 None\n",
      "  libgfortran        pkgs/main/osx-arm64::libgfortran-5.0.0-11_3_0_hca03da5_28 None\n",
      "  libgfortran5       pkgs/main/osx-arm64::libgfortran5-11.3.0-h009349e_28 None\n",
      "  libopenblas        pkgs/main/osx-arm64::libopenblas-0.3.21-h269037a_0 None\n",
      "  libpng             pkgs/main/osx-arm64::libpng-1.6.37-hb8d0fd4_0 None\n",
      "  libtiff            pkgs/main/osx-arm64::libtiff-4.4.0-had003b8_1 None\n",
      "  libwebp            pkgs/main/osx-arm64::libwebp-1.2.4-h68602c7_0 None\n",
      "  libwebp-base       pkgs/main/osx-arm64::libwebp-base-1.2.4-h1a28f6b_0 None\n",
      "  llvm-openmp        pkgs/main/osx-arm64::llvm-openmp-14.0.6-hc6e5704_0 None\n",
      "  lz4-c              pkgs/main/osx-arm64::lz4-c-1.9.3-hc377ac9_0 None\n",
      "  matplotlib         pkgs/main/osx-arm64::matplotlib-3.5.3-py38hca03da5_0 None\n",
      "  matplotlib-base    pkgs/main/osx-arm64::matplotlib-base-3.5.3-py38hc377ac9_0 None\n",
      "  munkres            pkgs/main/noarch::munkres-1.1.4-py_0 None\n",
      "  numexpr            pkgs/main/osx-arm64::numexpr-2.8.3-py38h144ceef_0 None\n",
      "  numpy              pkgs/main/osx-arm64::numpy-1.23.3-py38h42add53_1 None\n",
      "  numpy-base         pkgs/main/osx-arm64::numpy-base-1.23.3-py38hadd41eb_1 None\n",
      "  packaging          pkgs/main/noarch::packaging-21.3-pyhd3eb1b0_0 None\n",
      "  pandas             pkgs/main/osx-arm64::pandas-1.4.4-py38hc377ac9_0 None\n",
      "  pillow             pkgs/main/osx-arm64::pillow-9.2.0-py38h4d1bdd5_1 None\n",
      "  pyparsing          pkgs/main/osx-arm64::pyparsing-3.0.9-py38hca03da5_0 None\n",
      "  python-dateutil    pkgs/main/noarch::python-dateutil-2.8.2-pyhd3eb1b0_0 None\n",
      "  pytz               pkgs/main/osx-arm64::pytz-2022.1-py38hca03da5_0 None\n",
      "  scikit-learn       pkgs/main/osx-arm64::scikit-learn-1.1.3-py38hc377ac9_0 None\n",
      "  scipy              pkgs/main/osx-arm64::scipy-1.9.3-py38h9d039d2_0 None\n",
      "  seaborn            pkgs/main/osx-arm64::seaborn-0.12.0-py38hca03da5_0 None\n",
      "  six                pkgs/main/noarch::six-1.16.0-pyhd3eb1b0_1 None\n",
      "  threadpoolctl      pkgs/main/noarch::threadpoolctl-2.2.0-pyh0d69192_0 None\n",
      "  tornado            pkgs/main/osx-arm64::tornado-6.2-py38h1a28f6b_0 None\n",
      "  zstd               pkgs/main/osx-arm64::zstd-1.5.2-h8574219_0 None\n",
      "\n",
      "\n",
      "Proceed ([y]/n)? \n",
      "Preparing transaction: done\n",
      "Verifying transaction: done\n",
      "Executing transaction: done\n",
      "Retrieving notices: ...working... done\n"
     ]
    }
   ],
   "source": []
  },
  {
   "cell_type": "code",
   "execution_count": 19,
   "metadata": {},
   "outputs": [],
   "source": [
    "import sys\n",
    "sys.path.append('/opt/anaconda3/envs/walmart-sales/bin')"
   ]
  },
  {
   "cell_type": "code",
   "execution_count": 18,
   "metadata": {},
   "outputs": [
    {
     "name": "stdout",
     "output_type": "stream",
     "text": [
      "Package            Version\n",
      "------------------ ----------\n",
      "Bottleneck         1.3.5\n",
      "certifi            2022.9.24\n",
      "charset-normalizer 2.1.1\n",
      "contourpy          1.0.6\n",
      "cycler             0.11.0\n",
      "filelock           3.8.0\n",
      "fonttools          4.38.0\n",
      "huggingface-hub    0.10.1\n",
      "idna               3.4\n",
      "joblib             1.2.0\n",
      "kiwisolver         1.4.4\n",
      "matplotlib         3.6.2\n",
      "munkres            1.1.4\n",
      "numexpr            2.8.3\n",
      "numpy              1.23.4\n",
      "packaging          21.3\n",
      "pandas             1.5.1\n",
      "Pillow             9.3.0\n",
      "pip                22.2.2\n",
      "praw               7.6.0\n",
      "prawcore           2.3.0\n",
      "pyparsing          3.0.9\n",
      "python-dateutil    2.8.2\n",
      "pytz               2022.6\n",
      "PyYAML             6.0\n",
      "regex              2022.10.31\n",
      "requests           2.28.1\n",
      "scikit-learn       1.1.3\n",
      "scipy              1.9.3\n",
      "seaborn            0.12.1\n",
      "setuptools         65.5.0\n",
      "six                1.16.0\n",
      "threadpoolctl      3.1.0\n",
      "tokenizers         0.13.1\n",
      "torch              1.13.0\n",
      "torchvision        0.14.0\n",
      "tornado            6.2\n",
      "tqdm               4.64.1\n",
      "transformers       4.24.0\n",
      "typing_extensions  4.4.0\n",
      "update-checker     0.18.0\n",
      "urllib3            1.26.12\n",
      "websocket-client   1.4.1\n",
      "wheel              0.37.1\n",
      "/opt/anaconda3/envs/walmart-sales/bin/python3\n"
     ]
    }
   ],
   "source": [
    "!pip list\n",
    "!which python3"
   ]
  },
  {
   "cell_type": "code",
   "execution_count": 20,
   "metadata": {},
   "outputs": [],
   "source": [
    "import numpy as np      \n",
    "import pandas as pd     \n",
    "\n",
    "import matplotlib.pyplot as plt  \n",
    "import seaborn as sns\n",
    "\n",
    "from sklearn.model_selection import train_test_split\n",
    "from sklearn.preprocessing import MinMaxScaler, OneHotEncoder\n",
    "from sklearn.pipeline import Pipeline\n",
    "from sklearn.impute import SimpleImputer\n",
    "from sklearn.compose import ColumnTransformer\n",
    "from sklearn.linear_model import LinearRegression\n"
   ]
  }
 ],
 "metadata": {
  "kernelspec": {
   "display_name": "Python 3 (ipykernel)",
   "language": "python",
   "name": "python3"
  },
  "language_info": {
   "codemirror_mode": {
    "name": "ipython",
    "version": 3
   },
   "file_extension": ".py",
   "mimetype": "text/x-python",
   "name": "python",
   "nbconvert_exporter": "python",
   "pygments_lexer": "ipython3",
   "version": "3.8.9"
  },
  "toc": {
   "base_numbering": 1,
   "nav_menu": {},
   "number_sections": true,
   "sideBar": true,
   "skip_h1_title": false,
   "title_cell": "Table of Contents",
   "title_sidebar": "Contents",
   "toc_cell": false,
   "toc_position": {},
   "toc_section_display": true,
   "toc_window_display": false
  },
  "vscode": {
   "interpreter": {
    "hash": "f70fe2e7e7cb52bf2bf0a2d8cc8af5768efe1556307d7c8f07dd0e6b20b16428"
   }
  }
 },
 "nbformat": 4,
 "nbformat_minor": 2
}
